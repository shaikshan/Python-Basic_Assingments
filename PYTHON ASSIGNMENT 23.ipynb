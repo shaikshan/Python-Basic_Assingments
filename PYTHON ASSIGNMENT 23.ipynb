{
 "cells": [
  {
   "cell_type": "markdown",
   "id": "44cd2a16",
   "metadata": {},
   "source": [
    "1. What is the result of the code, and why?\n",
    "&gt;&gt;&gt; def func(a, b=6, c=8):\n",
    "print(a, b, c)\n",
    "&gt;&gt;&gt; func(1, 2)"
   ]
  },
  {
   "cell_type": "code",
   "execution_count": 3,
   "id": "a91de1c0",
   "metadata": {},
   "outputs": [
    {
     "name": "stdout",
     "output_type": "stream",
     "text": [
      "1 2 8\n"
     ]
    }
   ],
   "source": [
    "def func(a,b=6, c=8):\n",
    "    print(a,b,c)\n",
    "    \n",
    "func(1,2)\n",
    "# This funtion is taking a positional argument and 2 keyword argument. When function call is made, parameter passed \n",
    "# are a=1,b=2, the function is executed , parameter c=8 will be taken automatically as a default kwarg.\n",
    "# solution is = 1,2,8"
   ]
  },
  {
   "cell_type": "markdown",
   "id": "2ded1b42",
   "metadata": {},
   "source": [
    "2. What is the result of this code, and why?\n",
    "&gt;&gt;&gt; def func(a, b, c=5):\n",
    "print(a, b, c)\n",
    "&gt;&gt;&gt; func(1, c=3, b=2)"
   ]
  },
  {
   "cell_type": "code",
   "execution_count": 4,
   "id": "f13499d8",
   "metadata": {},
   "outputs": [
    {
     "name": "stdout",
     "output_type": "stream",
     "text": [
      "1 2 3\n"
     ]
    }
   ],
   "source": [
    "def func(a, b, c=5):\n",
    "    print(a, b, c)\n",
    "    \n",
    "func(1, c=3, b=2)\n",
    "\n",
    "## The function has 1 arg and 2 kwargs, the kwargs are defined clearly with\n",
    "## their keys, so they depend on name of the key not on the position of the key"
   ]
  },
  {
   "cell_type": "markdown",
   "id": "d7807e6e",
   "metadata": {},
   "source": [
    "3. How about this code: what is its result, and why?\n",
    "&gt;&gt;&gt; def func(a, *pargs):\n",
    "print(a, pargs)\n",
    "&gt;&gt;&gt; func(1, 2, 3)"
   ]
  },
  {
   "cell_type": "code",
   "execution_count": 8,
   "id": "c5184ec0",
   "metadata": {},
   "outputs": [
    {
     "name": "stdout",
     "output_type": "stream",
     "text": [
      "1 (2, 3)\n"
     ]
    }
   ],
   "source": [
    "def func(a, *pargs):\n",
    "    print(a, pargs)\n",
    "    \n",
    "func(1,2,3)\n",
    "## While defining the func we gave * to parameter pargs means that multiple\n",
    "# or one args can be passed, and it will result in set of tuple.."
   ]
  },
  {
   "cell_type": "markdown",
   "id": "17a99111",
   "metadata": {},
   "source": [
    "4. What does this code print, and why?\n",
    "&gt;&gt;&gt; def func(a, **kargs):\n",
    "print(a, kargs)\n",
    "&gt;&gt;&gt; func(a=1, c=3, b=2)"
   ]
  },
  {
   "cell_type": "code",
   "execution_count": 9,
   "id": "9d763c0b",
   "metadata": {},
   "outputs": [
    {
     "name": "stdout",
     "output_type": "stream",
     "text": [
      "1 {'c': 3, 'b': 2}\n"
     ]
    }
   ],
   "source": [
    "def func(a, **kargs):\n",
    "    print(a, kargs) \n",
    "    \n",
    "    \n",
    "func(a=1, c=3, b=2)\n",
    "\n",
    "## While defining the func(), we gave ** to parameter kargs which means that\n",
    "# one or multiple kwargs can be passed and returns as dictionary.."
   ]
  },
  {
   "cell_type": "markdown",
   "id": "4afa02c2",
   "metadata": {},
   "source": [
    "5. What gets printed by this, and explain?\n",
    "&gt;&gt;&gt; def func(a, b, c=8, d=5): print(a, b, c, d)\n",
    "&gt;&gt;&gt; func(1, *(5, 6))"
   ]
  },
  {
   "cell_type": "code",
   "execution_count": 11,
   "id": "a37fc3a3",
   "metadata": {},
   "outputs": [
    {
     "name": "stdout",
     "output_type": "stream",
     "text": [
      "1 5 6 5\n"
     ]
    }
   ],
   "source": [
    "def func(a, b, c=8, d=5):\n",
    "    print(a, b, c, d)\n",
    "    \n",
    "func(1,*(5,6))\n",
    "\n",
    "## The *(5,6) will unwraps the tuple and passes the each value to the\n",
    "# respective args and kwargs, and the kwargs has a default values, So we \n",
    "# get result as 1 5 6 5"
   ]
  },
  {
   "cell_type": "markdown",
   "id": "a97eab4c",
   "metadata": {},
   "source": [
    "6. what is the result of this, and explain?\n",
    "&gt;&gt;&gt; def func(a, b, c): a = 2; b[0] = &#39;x&#39;; c[&#39;a&#39;] = &#39;y&#39;\n",
    "&gt;&gt;&gt; l=1; m=[1]; n={&#39;a&#39;:0}\n",
    "&gt;&gt;&gt; func(l, m, n)"
   ]
  },
  {
   "cell_type": "code",
   "execution_count": 16,
   "id": "a4fa9244",
   "metadata": {},
   "outputs": [
    {
     "data": {
      "text/plain": [
       "(1, ['x'], {'a': 'y'})"
      ]
     },
     "execution_count": 16,
     "metadata": {},
     "output_type": "execute_result"
    }
   ],
   "source": [
    "def func(a, b, c):\n",
    "    a = 2; b[0] = 'x'; c['a'] = 'y'; \n",
    "    \n",
    "l=1; m=[1]; n={'a':0} \n",
    "\n",
    "func(l, m, n)\n",
    "l,m,n\n",
    "# Ans. Here in the code, the list and dict are passed as argument, and those are mutable. Here the list l and parameter b point \n",
    "#to the same list in the memory location where as dict n and c point to the same memory location. Any updates to this \n",
    "#list will update in the memory location\n",
    "\n",
    "#l = 1 , integer values, immutable, m is list, mutable, n is dict, mutable.\n",
    "#output will be = 1,['x'],{'a':'y'}"
   ]
  },
  {
   "cell_type": "code",
   "execution_count": null,
   "id": "dcc0407d",
   "metadata": {},
   "outputs": [],
   "source": []
  }
 ],
 "metadata": {
  "kernelspec": {
   "display_name": "Python 3 (ipykernel)",
   "language": "python",
   "name": "python3"
  },
  "language_info": {
   "codemirror_mode": {
    "name": "ipython",
    "version": 3
   },
   "file_extension": ".py",
   "mimetype": "text/x-python",
   "name": "python",
   "nbconvert_exporter": "python",
   "pygments_lexer": "ipython3",
   "version": "3.9.7"
  }
 },
 "nbformat": 4,
 "nbformat_minor": 5
}
