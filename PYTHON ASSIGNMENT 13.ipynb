{
 "cells": [
  {
   "cell_type": "markdown",
   "id": "c9a30515",
   "metadata": {},
   "source": [
    "1. What advantages do Excel spreadsheets have over CSV spreadsheets?"
   ]
  },
  {
   "cell_type": "raw",
   "id": "912f1b8f",
   "metadata": {},
   "source": [
    "In Excel, spreadsheets can have values of data types other than strings; cells can have different fonts, sizes, or color settings; cells can have varying widths and heights; adjacent cells can be merged; and you can embed images and charts."
   ]
  },
  {
   "cell_type": "markdown",
   "id": "f4d73bc1",
   "metadata": {},
   "source": [
    "2.What do you pass to csv.reader() and csv.writer() to create reader and writer objects?"
   ]
  },
  {
   "cell_type": "raw",
   "id": "25da79b7",
   "metadata": {},
   "source": [
    "I pass a File object, obtained from a call to open()."
   ]
  },
  {
   "cell_type": "markdown",
   "id": "bbd5297f",
   "metadata": {},
   "source": [
    "3. What modes do File objects for reader and writer objects need to be opened in?"
   ]
  },
  {
   "cell_type": "raw",
   "id": "e86fdd03",
   "metadata": {},
   "source": [
    "File objects need to be opened in read-binary ('rb') for Reader objects and write-binary ('wb') for Writer objects."
   ]
  },
  {
   "cell_type": "markdown",
   "id": "ef56cd2d",
   "metadata": {},
   "source": [
    "4. What method takes a list argument and writes it to a CSV file?"
   ]
  },
  {
   "cell_type": "raw",
   "id": "2e3f3b3e",
   "metadata": {},
   "source": [
    "The writerow() method"
   ]
  },
  {
   "cell_type": "markdown",
   "id": "1eee52fb",
   "metadata": {},
   "source": [
    "5. What do the keyword arguments delimiter and line terminator do?"
   ]
  },
  {
   "cell_type": "raw",
   "id": "b51abd7c",
   "metadata": {},
   "source": [
    "The delimiter argument changes the string used to separate cells in a row. The lineterminator argument changes the string used to separate rows."
   ]
  },
  {
   "cell_type": "markdown",
   "id": "2c056556",
   "metadata": {},
   "source": [
    "6. What function takes a string of JSON data and returns a Python data structure?"
   ]
  },
  {
   "cell_type": "raw",
   "id": "5bd6ee1e",
   "metadata": {},
   "source": [
    "json.loads()"
   ]
  },
  {
   "cell_type": "markdown",
   "id": "45a04f93",
   "metadata": {},
   "source": [
    "7. What function takes a Python data structure and returns a string of JSON data?"
   ]
  },
  {
   "cell_type": "raw",
   "id": "ac8bae1b",
   "metadata": {},
   "source": [
    "json.dumps()"
   ]
  },
  {
   "cell_type": "code",
   "execution_count": null,
   "id": "90eae172",
   "metadata": {},
   "outputs": [],
   "source": []
  }
 ],
 "metadata": {
  "kernelspec": {
   "display_name": "Python 3 (ipykernel)",
   "language": "python",
   "name": "python3"
  },
  "language_info": {
   "codemirror_mode": {
    "name": "ipython",
    "version": 3
   },
   "file_extension": ".py",
   "mimetype": "text/x-python",
   "name": "python",
   "nbconvert_exporter": "python",
   "pygments_lexer": "ipython3",
   "version": "3.9.7"
  }
 },
 "nbformat": 4,
 "nbformat_minor": 5
}
