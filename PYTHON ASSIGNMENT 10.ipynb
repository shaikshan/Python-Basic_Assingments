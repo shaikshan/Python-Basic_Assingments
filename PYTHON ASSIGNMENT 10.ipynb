{
 "cells": [
  {
   "cell_type": "markdown",
   "id": "537a8e9e",
   "metadata": {},
   "source": [
    "1.How do you distinguish between shutil.copy() and shutil.copytree()?"
   ]
  },
  {
   "cell_type": "raw",
   "id": "264b856d",
   "metadata": {},
   "source": [
    "While shutil.copy() will copy a single file, shutil.copytree() will copy an entire folder and every folder and file contained in it.\n"
   ]
  },
  {
   "cell_type": "markdown",
   "id": "1b07fa76",
   "metadata": {},
   "source": [
    "2. What function is used to rename files??"
   ]
  },
  {
   "cell_type": "markdown",
   "id": "598766bd",
   "metadata": {},
   "source": [
    "import os\n",
    "os.rename('Old_name','New_name')\n",
    "The above method is used to rename the file."
   ]
  },
  {
   "cell_type": "markdown",
   "id": "8636fb29",
   "metadata": {},
   "source": [
    "3. What is the difference between the delete functions in the send2trash and shutil modules?"
   ]
  },
  {
   "cell_type": "raw",
   "id": "2a81d3c7",
   "metadata": {},
   "source": [
    "A:The send2trash functions will move a file or folder to the recycle bin, while shutil functions will permanently delete files and folders."
   ]
  },
  {
   "cell_type": "markdown",
   "id": "6e4b0aca",
   "metadata": {},
   "source": [
    "4.ZipFile objects have a close() method just like File objects’ close() method. What ZipFile method is\n",
    "equivalent to File objects’ open() method?"
   ]
  },
  {
   "cell_type": "raw",
   "id": "c40df449",
   "metadata": {},
   "source": [
    "A:The zipfile. ZipFile() function is equivalent to the open() function; the first argument is the filename, and the second argument is the mode to open the ZIP file in (read, write, or append)."
   ]
  },
  {
   "cell_type": "markdown",
   "id": "eae921ab",
   "metadata": {},
   "source": [
    "5.Write a program that walks through a folder tree and searches for files with a certain file extension (such as .pdf or .jpg). Copy these files from whatever location they are in to a new folder.\n"
   ]
  },
  {
   "cell_type": "code",
   "execution_count": 42,
   "id": "63c56eec",
   "metadata": {},
   "outputs": [],
   "source": [
    "import os\n",
    "import shutil\n",
    "def Folder_copy(Old_Folder, extensions, New_Folder):\n",
    "    \"\"\"This function creates New_folder by copying the given extensions of files of Old_folder\"\"\"\n",
    "    Old_Folder = os.path.abspath(Old_Folder)\n",
    "    New_Folder = os.path.abspath(New_Folder)\n",
    "    print('Looking in', folder, 'for files with extensions of', ', '.join(extensions))\n",
    "    for foldername, subfolders, filenames in os.walk(Old_Folder):\n",
    "        for filename in filenames:\n",
    "            name, extension = os.path.splitext(filename)\n",
    "            if extension in extensions:\n",
    "                fileAbsPath = foldername + os.path.sep + filename\n",
    "                print('Coping', fileAbsPath, 'to', New_Folder)\n",
    "                shutil.copy(fileAbsPath, New_Folder)"
   ]
  },
  {
   "cell_type": "code",
   "execution_count": 44,
   "id": "4f478d63",
   "metadata": {},
   "outputs": [
    {
     "name": "stdout",
     "output_type": "stream",
     "text": [
      "Looking in C:\\Users\\Munna\\Downloads\\PYTHON ASSIGNMENTS for files with extensions of ., i, p, y, n, b\n",
      "Coping C:\\Users\\Munna\\Downloads\\New folder\\PYTHON ASSIGNMENT 1.ipynb to C:\\Users\\Munna\\Downloads\\New folder (2)\n",
      "Coping C:\\Users\\Munna\\Downloads\\New folder\\PYTHON ASSIGNMENT 2.ipynb to C:\\Users\\Munna\\Downloads\\New folder (2)\n",
      "Coping C:\\Users\\Munna\\Downloads\\New folder\\PYTHON ASSIGNMENT 3.ipynb to C:\\Users\\Munna\\Downloads\\New folder (2)\n",
      "Coping C:\\Users\\Munna\\Downloads\\New folder\\PYTHON ASSIGNMENT 4.ipynb to C:\\Users\\Munna\\Downloads\\New folder (2)\n",
      "Coping C:\\Users\\Munna\\Downloads\\New folder\\PYTHON ASSIGNMENT 5.ipynb to C:\\Users\\Munna\\Downloads\\New folder (2)\n",
      "Coping C:\\Users\\Munna\\Downloads\\New folder\\PYTHON ASSIGNMENT 6.ipynb to C:\\Users\\Munna\\Downloads\\New folder (2)\n",
      "Coping C:\\Users\\Munna\\Downloads\\New folder\\PYTHON ASSIGNMENT 7.ipynb to C:\\Users\\Munna\\Downloads\\New folder (2)\n",
      "Coping C:\\Users\\Munna\\Downloads\\New folder\\PYTHON ASSIGNMENT 8.ipynb to C:\\Users\\Munna\\Downloads\\New folder (2)\n",
      "Coping C:\\Users\\Munna\\Downloads\\New folder\\PYTHON ASSIGNMENT 9.ipynb to C:\\Users\\Munna\\Downloads\\New folder (2)\n",
      "Coping C:\\Users\\Munna\\Downloads\\New folder\\Untitled-checkpoint.ipynb to C:\\Users\\Munna\\Downloads\\New folder (2)\n",
      "Coping C:\\Users\\Munna\\Downloads\\New folder\\Untitled.ipynb to C:\\Users\\Munna\\Downloads\\New folder (2)\n"
     ]
    }
   ],
   "source": [
    "#Driver Code\n",
    "Older_Folder = r'C:\\Users\\Munna\\Downloads\\New folder'\n",
    "New_Folder = r'C:\\Users\\Munna\\Downloads\\New folder (2)'\n",
    "extensions = '.ipynb'\n",
    "\n",
    "Folder_copy(Old_Folder=Older_Folder,extensions=extensions,New_Folder=New_Folder)"
   ]
  },
  {
   "cell_type": "code",
   "execution_count": null,
   "id": "143d6900",
   "metadata": {},
   "outputs": [],
   "source": []
  }
 ],
 "metadata": {
  "kernelspec": {
   "display_name": "Python 3 (ipykernel)",
   "language": "python",
   "name": "python3"
  },
  "language_info": {
   "codemirror_mode": {
    "name": "ipython",
    "version": 3
   },
   "file_extension": ".py",
   "mimetype": "text/x-python",
   "name": "python",
   "nbconvert_exporter": "python",
   "pygments_lexer": "ipython3",
   "version": "3.9.7"
  }
 },
 "nbformat": 4,
 "nbformat_minor": 5
}
