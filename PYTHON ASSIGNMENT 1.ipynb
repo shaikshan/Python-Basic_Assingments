{
 "cells": [
  {
   "cell_type": "markdown",
   "id": "2ae066ce",
   "metadata": {},
   "source": [
    "1. Defining values and expression"
   ]
  },
  {
   "cell_type": "markdown",
   "id": "4750560f",
   "metadata": {},
   "source": [
    "A:'hello', -87.8, 6 are the values, and *, -, /, + are the expressions"
   ]
  },
  {
   "cell_type": "markdown",
   "id": "b94b2a44",
   "metadata": {},
   "source": [
    "2.Difference between string and variable"
   ]
  },
  {
   "cell_type": "markdown",
   "id": "21405a0b",
   "metadata": {},
   "source": [
    "A: string is a datatype, whereas the variable is the holder of the datatypes or it is representation of a particular object."
   ]
  },
  {
   "cell_type": "markdown",
   "id": "065fe7f6",
   "metadata": {},
   "source": [
    "3.Three Different datatypes"
   ]
  },
  {
   "cell_type": "markdown",
   "id": "56082327",
   "metadata": {},
   "source": [
    "A: string:it is collection of characters within the quotations;\n",
    "list:it is the collection of values within the single variable or within the square brackets;\n",
    "dictionary: it is the collection of key and value pair within the curly braces..."
   ]
  },
  {
   "cell_type": "markdown",
   "id": "6a2b7036",
   "metadata": {},
   "source": [
    "4.Expression"
   ]
  },
  {
   "cell_type": "markdown",
   "id": "6be26855",
   "metadata": {},
   "source": [
    "A: An expression is made up of symbols like *, -, + and operands.\n",
    "    They can perform certain operations based upon the condition."
   ]
  },
  {
   "cell_type": "markdown",
   "id": "59736af2",
   "metadata": {},
   "source": [
    "5. Difference between statement and expression"
   ]
  },
  {
   "cell_type": "markdown",
   "id": "ee61c9d6",
   "metadata": {},
   "source": [
    "A: A statement creates variable and behaves based upon the condition of the statement,\n",
    "    whereas the expression is the combination of operators and operands used to give a new value or evaluate them based on condition."
   ]
  },
  {
   "cell_type": "markdown",
   "id": "0cda912c",
   "metadata": {},
   "source": [
    "6.bacon =22, then what is the value for bacon+1"
   ]
  },
  {
   "cell_type": "code",
   "execution_count": 7,
   "id": "979b1dd2",
   "metadata": {},
   "outputs": [
    {
     "data": {
      "text/plain": [
       "23"
      ]
     },
     "execution_count": 7,
     "metadata": {},
     "output_type": "execute_result"
    }
   ],
   "source": [
    "bacon = 22\n",
    "bacon = bacon+1\n",
    "bacon"
   ]
  },
  {
   "cell_type": "markdown",
   "id": "57dbc425",
   "metadata": {},
   "source": [
    "7. The values of 'spam'+ 'spamspam' and 'spam'* 3 are:"
   ]
  },
  {
   "cell_type": "code",
   "execution_count": 9,
   "id": "ad2a7b60",
   "metadata": {},
   "outputs": [
    {
     "data": {
      "text/plain": [
       "('spamspamspam', 'spamspamspam')"
      ]
     },
     "execution_count": 9,
     "metadata": {},
     "output_type": "execute_result"
    }
   ],
   "source": [
    "a = 'spam'+'spamspam'\n",
    "b = 'spam'*3\n",
    "a,b"
   ]
  },
  {
   "cell_type": "markdown",
   "id": "dc1ccbf3",
   "metadata": {},
   "source": [
    "8.Why is eggs a valid variable name while 100 is invalid?"
   ]
  },
  {
   "cell_type": "markdown",
   "id": "e9112c4e",
   "metadata": {},
   "source": [
    "A: Because we can't keep datatype as a variable,here in this question the 100 is a int datatype,\n",
    "    so thats the reason, but we can give eggs like a variable because it is not a datatype"
   ]
  },
  {
   "cell_type": "markdown",
   "id": "02ced530",
   "metadata": {},
   "source": [
    "9. What three functions can be used to get the integer, floating-point number, or string\n",
    "version of a value?"
   ]
  },
  {
   "cell_type": "markdown",
   "id": "f62fe367",
   "metadata": {},
   "source": [
    "A: int(), float(), str()"
   ]
  },
  {
   "cell_type": "markdown",
   "id": "09c8b161",
   "metadata": {},
   "source": [
    "10. Why does this expression cause an error? How can you fix it?\n",
    "&#39;I have eaten &#39; + 99 + &#39; burritos.&#39;"
   ]
  },
  {
   "cell_type": "markdown",
   "id": "da8cc24b",
   "metadata": {},
   "source": [
    "A: Because we cannot concatenate the two different datatypes,\n",
    "    if we want to do that we should change it in the same datatype by typecasting"
   ]
  },
  {
   "cell_type": "code",
   "execution_count": null,
   "id": "b2357fb9",
   "metadata": {},
   "outputs": [],
   "source": []
  }
 ],
 "metadata": {
  "kernelspec": {
   "display_name": "Python 3 (ipykernel)",
   "language": "python",
   "name": "python3"
  },
  "language_info": {
   "codemirror_mode": {
    "name": "ipython",
    "version": 3
   },
   "file_extension": ".py",
   "mimetype": "text/x-python",
   "name": "python",
   "nbconvert_exporter": "python",
   "pygments_lexer": "ipython3",
   "version": "3.9.7"
  }
 },
 "nbformat": 4,
 "nbformat_minor": 5
}
