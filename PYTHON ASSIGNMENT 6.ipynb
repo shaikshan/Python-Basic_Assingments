{
 "cells": [
  {
   "cell_type": "markdown",
   "id": "d3e92f85",
   "metadata": {},
   "source": [
    "1. What are escape characters, and how do you use them?"
   ]
  },
  {
   "cell_type": "raw",
   "id": "b9446152",
   "metadata": {},
   "source": [
    "A: An escape character is a blackslash \\ character used for inserting a character that are illegal in a string."
   ]
  },
  {
   "cell_type": "code",
   "execution_count": 1,
   "id": "f48b8d7d",
   "metadata": {},
   "outputs": [
    {
     "name": "stdout",
     "output_type": "stream",
     "text": [
      "My name is \"roshanzameer\"\n"
     ]
    }
   ],
   "source": [
    "\"for example\"\n",
    "txt = \"My name is \\\"roshanzameer\\\"\"\n",
    "print(txt)"
   ]
  },
  {
   "cell_type": "markdown",
   "id": "d6e91638",
   "metadata": {},
   "source": [
    "2. What do the escape characters n and t stand for?  "
   ]
  },
  {
   "cell_type": "raw",
   "id": "18decba8",
   "metadata": {},
   "source": [
    "A: The escape character n stands for new line,\n",
    "    The escape character t stands for tab.."
   ]
  },
  {
   "cell_type": "markdown",
   "id": "86be53d1",
   "metadata": {},
   "source": [
    "3. What is the way to include backslash characters in a string?"
   ]
  },
  {
   "cell_type": "code",
   "execution_count": 10,
   "id": "31ff2654",
   "metadata": {},
   "outputs": [
    {
     "name": "stdout",
     "output_type": "stream",
     "text": [
      "We are the so-called \"FSDS learners\" \n",
      "from the south\n"
     ]
    }
   ],
   "source": [
    "#The simple to include backslash characters in a string is:\n",
    "txt = \"We are the so-called \\\"FSDS learners\\\" \\nfrom the south\"\n",
    "print(txt)"
   ]
  },
  {
   "cell_type": "markdown",
   "id": "e7212370",
   "metadata": {},
   "source": [
    "4. The string &quot;Howl&#39;s Moving Castle&quot; is a correct value. Why isn&#39;t the single quote character in the\n",
    "word Howl&#39;s not escaped a problem?"
   ]
  },
  {
   "cell_type": "raw",
   "id": "353e9de6",
   "metadata": {},
   "source": [
    "A: It is because you used a double quotes at begining\n",
    "    and at the end of the string."
   ]
  },
  {
   "cell_type": "markdown",
   "id": "96bb91ab",
   "metadata": {},
   "source": [
    "5. How do you write a string of newlines if you don&#39;t want to use the n character?"
   ]
  },
  {
   "cell_type": "code",
   "execution_count": 11,
   "id": "7b8b4e91",
   "metadata": {},
   "outputs": [
    {
     "name": "stdout",
     "output_type": "stream",
     "text": [
      "Hello\n",
      "World!\n"
     ]
    }
   ],
   "source": [
    "#We use multiple print statements to have the new\n",
    "#lines without using n characters:For example\n",
    "print(\"Hello\")\n",
    "print(\"World!\")"
   ]
  },
  {
   "cell_type": "markdown",
   "id": "4228a532",
   "metadata": {},
   "source": [
    "6. What are the values of the given expressions?"
   ]
  },
  {
   "cell_type": "raw",
   "id": "84475ada",
   "metadata": {},
   "source": [
    "'Hello, world!'[1]\n",
    "'Hello, world!'[0:5]\n",
    "'Hello, world!'[:5]\n",
    "'Hello, world!'[3:]"
   ]
  },
  {
   "cell_type": "code",
   "execution_count": 22,
   "id": "ea7cc76f",
   "metadata": {},
   "outputs": [
    {
     "data": {
      "text/plain": [
       "'e'"
      ]
     },
     "execution_count": 22,
     "metadata": {},
     "output_type": "execute_result"
    }
   ],
   "source": [
    "\"Hello, world!\"[1]"
   ]
  },
  {
   "cell_type": "code",
   "execution_count": 19,
   "id": "77f0fade",
   "metadata": {},
   "outputs": [
    {
     "data": {
      "text/plain": [
       "'Hello'"
      ]
     },
     "execution_count": 19,
     "metadata": {},
     "output_type": "execute_result"
    }
   ],
   "source": [
    "\"Hello, world!\"[0:5]"
   ]
  },
  {
   "cell_type": "code",
   "execution_count": 20,
   "id": "eab0698b",
   "metadata": {},
   "outputs": [
    {
     "data": {
      "text/plain": [
       "'Hello'"
      ]
     },
     "execution_count": 20,
     "metadata": {},
     "output_type": "execute_result"
    }
   ],
   "source": [
    "\"Hello, world!\"[:5]"
   ]
  },
  {
   "cell_type": "code",
   "execution_count": 21,
   "id": "138fc6a5",
   "metadata": {},
   "outputs": [
    {
     "data": {
      "text/plain": [
       "'lo, world!'"
      ]
     },
     "execution_count": 21,
     "metadata": {},
     "output_type": "execute_result"
    }
   ],
   "source": [
    "\"Hello, world!\"[3:]"
   ]
  },
  {
   "cell_type": "markdown",
   "id": "8de530d3",
   "metadata": {},
   "source": [
    "7. What are the values of the following expressions?"
   ]
  },
  {
   "cell_type": "raw",
   "id": "658ce351",
   "metadata": {},
   "source": [
    "'Hello'.upper()\n",
    "'Hello'.upper().isupper()\n",
    "'Hello'.upper().lower()"
   ]
  },
  {
   "cell_type": "code",
   "execution_count": 23,
   "id": "f0a0c625",
   "metadata": {},
   "outputs": [
    {
     "data": {
      "text/plain": [
       "'HELLO'"
      ]
     },
     "execution_count": 23,
     "metadata": {},
     "output_type": "execute_result"
    }
   ],
   "source": [
    "'Hello'.upper()"
   ]
  },
  {
   "cell_type": "code",
   "execution_count": 26,
   "id": "94a33add",
   "metadata": {},
   "outputs": [
    {
     "data": {
      "text/plain": [
       "True"
      ]
     },
     "execution_count": 26,
     "metadata": {},
     "output_type": "execute_result"
    }
   ],
   "source": [
    "'Hello'.upper().isupper()"
   ]
  },
  {
   "cell_type": "code",
   "execution_count": 27,
   "id": "7e9f3d40",
   "metadata": {},
   "outputs": [
    {
     "data": {
      "text/plain": [
       "'hello'"
      ]
     },
     "execution_count": 27,
     "metadata": {},
     "output_type": "execute_result"
    }
   ],
   "source": [
    "'Hello'.upper().lower()"
   ]
  },
  {
   "cell_type": "markdown",
   "id": "95d16ed3",
   "metadata": {},
   "source": [
    "8. What are the values of the following expressions?"
   ]
  },
  {
   "cell_type": "raw",
   "id": "2e07faaf",
   "metadata": {},
   "source": [
    "'Remember, remember, the fifth of July.'.split()\n",
    "'-'.join('There can only one.'.split())"
   ]
  },
  {
   "cell_type": "code",
   "execution_count": 44,
   "id": "00c593f8",
   "metadata": {},
   "outputs": [
    {
     "data": {
      "text/plain": [
       "['Remember,', 'remember,', 'the', 'fifth', 'of', 'July.']"
      ]
     },
     "execution_count": 44,
     "metadata": {},
     "output_type": "execute_result"
    }
   ],
   "source": [
    "'Remember, remember, the fifth of July.'.split()"
   ]
  },
  {
   "cell_type": "code",
   "execution_count": 36,
   "id": "87a6a713",
   "metadata": {},
   "outputs": [
    {
     "data": {
      "text/plain": [
       "'There-can-only-one.'"
      ]
     },
     "execution_count": 36,
     "metadata": {},
     "output_type": "execute_result"
    }
   ],
   "source": [
    "'-'.join('There can only one.'.split())"
   ]
  },
  {
   "cell_type": "markdown",
   "id": "e3ecfcf7",
   "metadata": {},
   "source": [
    "9. What are the methods for right-justifying, left-justifying, and centering a string?"
   ]
  },
  {
   "cell_type": "code",
   "execution_count": 58,
   "id": "8de4ed02",
   "metadata": {},
   "outputs": [
    {
     "name": "stdout",
     "output_type": "stream",
     "text": [
      "1 ----------------This is roshan\n",
      "\n",
      "\n",
      "2 This is roshan----------------\n",
      "\n",
      "\n",
      "3 --This is center- justifying--\n"
     ]
    }
   ],
   "source": [
    "# for right-justifying\n",
    "txt = \"This is roshan\"\n",
    "print(1,txt.rjust(30,'-'))\n",
    "\n",
    "#for left justifying\n",
    "txt = \"This is roshan\"\n",
    "print(2,txt.ljust(30,\"-\"))\n",
    "\n",
    "#for center justifying\n",
    "txt = \"This is center- justifying\"\n",
    "print(3,txt.center(30,\"-\"))\n"
   ]
  },
  {
   "cell_type": "markdown",
   "id": "44597d6f",
   "metadata": {},
   "source": [
    "10. What is the best way to remove whitespace characters from the start or end?"
   ]
  },
  {
   "cell_type": "code",
   "execution_count": 66,
   "id": "eebb4892",
   "metadata": {},
   "outputs": [
    {
     "data": {
      "text/plain": [
       "'Roshan'"
      ]
     },
     "execution_count": 66,
     "metadata": {},
     "output_type": "execute_result"
    }
   ],
   "source": [
    "#Best way is to use strip() function for ex:\n",
    "\"  Roshan  \".strip()"
   ]
  },
  {
   "cell_type": "code",
   "execution_count": null,
   "id": "b6c8a158",
   "metadata": {},
   "outputs": [],
   "source": []
  }
 ],
 "metadata": {
  "kernelspec": {
   "display_name": "Python 3 (ipykernel)",
   "language": "python",
   "name": "python3"
  },
  "language_info": {
   "codemirror_mode": {
    "name": "ipython",
    "version": 3
   },
   "file_extension": ".py",
   "mimetype": "text/x-python",
   "name": "python",
   "nbconvert_exporter": "python",
   "pygments_lexer": "ipython3",
   "version": "3.9.7"
  }
 },
 "nbformat": 4,
 "nbformat_minor": 5
}
