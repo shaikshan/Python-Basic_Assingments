{
 "cells": [
  {
   "cell_type": "markdown",
   "id": "f9c81ac6",
   "metadata": {},
   "source": [
    "1 . Why are functions advantageous to have in your programs?"
   ]
  },
  {
   "cell_type": "markdown",
   "id": "b580e35f",
   "metadata": {},
   "source": [
    "A: The reason is we can use the same code multiple times for same operations to which code is created."
   ]
  },
  {
   "cell_type": "markdown",
   "id": "3a756c23",
   "metadata": {},
   "source": [
    "2 . When does the code in a function run: when it's specified or when it's called?"
   ]
  },
  {
   "cell_type": "markdown",
   "id": "1438bd46",
   "metadata": {},
   "source": [
    "A: We should have both considerations,because the \n",
    "function is called to perform specific operation.."
   ]
  },
  {
   "cell_type": "markdown",
   "id": "c33a88ea",
   "metadata": {},
   "source": [
    "3.What statement creates a function?"
   ]
  },
  {
   "cell_type": "markdown",
   "id": "015a4fd8",
   "metadata": {},
   "source": [
    "A: def statement is used for creating a function."
   ]
  },
  {
   "cell_type": "markdown",
   "id": "d20fe9b7",
   "metadata": {},
   "source": [
    "4.What is the difference between a function and a function call?"
   ]
  },
  {
   "cell_type": "markdown",
   "id": "66d843e9",
   "metadata": {},
   "source": [
    "A:function is a code to perform a specific task.\n",
    "function call is calling a existing function to   perform a task.."
   ]
  },
  {
   "cell_type": "markdown",
   "id": "013802e6",
   "metadata": {},
   "source": [
    "5 . How many global scopes are there in a Python program? How many local scopes?"
   ]
  },
  {
   "cell_type": "markdown",
   "id": "5515d2ab",
   "metadata": {},
   "source": [
    "A:global variable has a only one scope.local variable\n",
    "    also has one scope..."
   ]
  },
  {
   "cell_type": "markdown",
   "id": "90b07957",
   "metadata": {},
   "source": [
    "6 . What happens to variables in a local scope when the function call returns?"
   ]
  },
  {
   "cell_type": "markdown",
   "id": "13a4d8c1",
   "metadata": {},
   "source": [
    "A: A local variable retains its value until the \n",
    "    function is called for next time..."
   ]
  },
  {
   "cell_type": "markdown",
   "id": "bd90a50d",
   "metadata": {},
   "source": [
    "7 . What is the concept of a return value? Is it possible to have a return value in an expression?"
   ]
  },
  {
   "cell_type": "markdown",
   "id": "5688dcd8",
   "metadata": {},
   "source": [
    "A: A return statement is used to end the execution of\n",
    "the function and returns the result value of the \n",
    "expression followed by the return keyword.After the\n",
    "return key is ended the function will be closed.\n",
    "if any expression is not followed by the return key\n",
    "it will returns the None type.."
   ]
  },
  {
   "cell_type": "markdown",
   "id": "462575b2",
   "metadata": {},
   "source": [
    "8 . If a function does not have a return statement, what is the return value of a call to that function?"
   ]
  },
  {
   "cell_type": "markdown",
   "id": "4ec7db52",
   "metadata": {},
   "source": [
    " A: if a function does not have a return statement\n",
    "then it will return a None type"
   ]
  },
  {
   "cell_type": "markdown",
   "id": "ee1dc669",
   "metadata": {},
   "source": [
    "9 . How do you make a function variable refer to the global variable?"
   ]
  },
  {
   "cell_type": "markdown",
   "id": "431ff466",
   "metadata": {},
   "source": [
    "A: By declaring the global keyword"
   ]
  },
  {
   "cell_type": "markdown",
   "id": "4d244226",
   "metadata": {},
   "source": [
    "10 . What is the data type of None?"
   ]
  },
  {
   "cell_type": "markdown",
   "id": "ad498136",
   "metadata": {},
   "source": [
    "A:None type.."
   ]
  },
  {
   "cell_type": "markdown",
   "id": "a8f13239",
   "metadata": {},
   "source": [
    "11 . What does the sentence import areallyourpetsnamederic do?"
   ]
  },
  {
   "cell_type": "markdown",
   "id": "a3409c75",
   "metadata": {},
   "source": [
    "A: import statement imports the module areallyourpetsnamederic."
   ]
  },
  {
   "cell_type": "markdown",
   "id": "9798bc43",
   "metadata": {},
   "source": [
    "12 . If you had a bacon() feature in a spam module, what would you call it after importing spam?"
   ]
  },
  {
   "cell_type": "markdown",
   "id": "1a652f70",
   "metadata": {},
   "source": [
    "A: We call spam.bacon()"
   ]
  },
  {
   "cell_type": "markdown",
   "id": "bcd2b205",
   "metadata": {},
   "source": [
    "13 . What can you do to save a programme from crashing if it encounters an error?"
   ]
  },
  {
   "cell_type": "markdown",
   "id": "bfc4f965",
   "metadata": {},
   "source": [
    "A:we create a try and except block to handle the errors."
   ]
  },
  {
   "cell_type": "markdown",
   "id": "52a175a0",
   "metadata": {},
   "source": [
    "14 . What is the purpose of the try clause? What is the purpose of the except clause?"
   ]
  },
  {
   "cell_type": "markdown",
   "id": "bf62b8e0",
   "metadata": {},
   "source": [
    "A: The try clause handles the syntax errors,The except clause handles the exceptions for example: zero division error."
   ]
  },
  {
   "cell_type": "code",
   "execution_count": null,
   "id": "7fa93737",
   "metadata": {},
   "outputs": [],
   "source": []
  }
 ],
 "metadata": {
  "kernelspec": {
   "display_name": "Python 3 (ipykernel)",
   "language": "python",
   "name": "python3"
  },
  "language_info": {
   "codemirror_mode": {
    "name": "ipython",
    "version": 3
   },
   "file_extension": ".py",
   "mimetype": "text/x-python",
   "name": "python",
   "nbconvert_exporter": "python",
   "pygments_lexer": "ipython3",
   "version": "3.9.7"
  }
 },
 "nbformat": 4,
 "nbformat_minor": 5
}
