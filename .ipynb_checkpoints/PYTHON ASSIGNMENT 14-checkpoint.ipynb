{
 "cells": [
  {
   "cell_type": "markdown",
   "id": "7cec2520",
   "metadata": {},
   "source": [
    "1. What does RGBA stand for?"
   ]
  },
  {
   "cell_type": "markdown",
   "id": "6f08e68e",
   "metadata": {},
   "source": [
    "red, green, blue, and alpha (or transparency) in a color"
   ]
  },
  {
   "cell_type": "markdown",
   "id": "d2f48f82",
   "metadata": {},
   "source": [
    "2 . From the Pillow module, how do you get the RGBA value of any images?"
   ]
  },
  {
   "cell_type": "markdown",
   "id": "6fbb587a",
   "metadata": {},
   "source": [
    "A: Pillow offers the ImageColor.getcolor()"
   ]
  },
  {
   "cell_type": "markdown",
   "id": "9ef9d0fb",
   "metadata": {},
   "source": [
    "3.What is a box tuple, and how does it work?"
   ]
  },
  {
   "cell_type": "markdown",
   "id": "f3208c90",
   "metadata": {},
   "source": [
    "A:Many of Pillow’s functions and methods take a box tuple argument. This means Pillow is expecting a tuple of four integer coordinates that represent a rectangular region in an image. The four integers are, in order, as follows:\n",
    "Left: The x-coordinate of the leftmost edge of the box.\n",
    "\n",
    "Top: The y-coordinate of the top edge of the box.\n",
    "\n",
    "Right: The x-coordinate of one pixel to the right of the rightmost edge of the box. This integer must be greater than the left integer.\n",
    "\n",
    "Bottom: The y-coordinate of one pixel lower than the bottom edge of the box. This integer must be greater than the top integer."
   ]
  },
  {
   "cell_type": "markdown",
   "id": "fa188b17",
   "metadata": {},
   "source": [
    "4 . Use your image and load in notebook then, How can you find out the width and height of an\n",
    "Image object?"
   ]
  },
  {
   "cell_type": "code",
   "execution_count": 6,
   "id": "e8ee1f9e",
   "metadata": {},
   "outputs": [
    {
     "name": "stdout",
     "output_type": "stream",
     "text": [
      "241\n",
      "209\n"
     ]
    }
   ],
   "source": [
    "from PIL import Image\n",
    "catdog = Image.open('catdog.png')\n",
    "width,height = catdog.size\n",
    "print(width)\n",
    "print(height)"
   ]
  },
  {
   "cell_type": "markdown",
   "id": "e0e0849a",
   "metadata": {},
   "source": [
    "5 . What method would you call to get Image object for a 100×100 image, excluding the lower-left\n",
    "quarter of it?"
   ]
  },
  {
   "cell_type": "markdown",
   "id": "e8823847",
   "metadata": {},
   "source": [
    "A: Image.new(RGBA,(100,100)) For creating a 100x100 image"
   ]
  },
  {
   "cell_type": "markdown",
   "id": "41811019",
   "metadata": {},
   "source": [
    "6 . After making changes to an Image object, how could you save it as an image file?"
   ]
  },
  {
   "cell_type": "code",
   "execution_count": 8,
   "id": "70b204ac",
   "metadata": {},
   "outputs": [],
   "source": [
    "from PIL import Image\n",
    "catdog = Image.open('catdog.png')\n",
    "catdog.resize((250,250))\n",
    "catdog.save('catdog1.png')"
   ]
  },
  {
   "cell_type": "markdown",
   "id": "8c10c259",
   "metadata": {},
   "source": [
    "7 . What module contains Pillow’s shape-drawing code?"
   ]
  },
  {
   "cell_type": "markdown",
   "id": "416a84c0",
   "metadata": {},
   "source": [
    "A: ImageDraw module contains Pillow's shape-drawing code.."
   ]
  },
  {
   "cell_type": "markdown",
   "id": "66ba134d",
   "metadata": {},
   "source": [
    "8 . Image objects do not have drawing methods. What kind of object does? How do you get this kind\n",
    "of object?"
   ]
  },
  {
   "cell_type": "markdown",
   "id": "4dece544",
   "metadata": {},
   "source": [
    "A: from PIL import Image, ImageDraw, ImageFont\n",
    "\n",
    "import os\n",
    "\n",
    "im = Image.new('RGBA', (200, 200), 'white')\n",
    "\n",
    "draw = ImageDraw.Draw(im)\n",
    "\n",
    "We use ImageDraw.Draw object to draw images.."
   ]
  },
  {
   "cell_type": "code",
   "execution_count": null,
   "id": "2e7d5166",
   "metadata": {},
   "outputs": [],
   "source": []
  },
  {
   "cell_type": "code",
   "execution_count": null,
   "id": "0da6ec86",
   "metadata": {},
   "outputs": [],
   "source": []
  }
 ],
 "metadata": {
  "kernelspec": {
   "display_name": "Python 3 (ipykernel)",
   "language": "python",
   "name": "python3"
  },
  "language_info": {
   "codemirror_mode": {
    "name": "ipython",
    "version": 3
   },
   "file_extension": ".py",
   "mimetype": "text/x-python",
   "name": "python",
   "nbconvert_exporter": "python",
   "pygments_lexer": "ipython3",
   "version": "3.9.7"
  }
 },
 "nbformat": 4,
 "nbformat_minor": 5
}
