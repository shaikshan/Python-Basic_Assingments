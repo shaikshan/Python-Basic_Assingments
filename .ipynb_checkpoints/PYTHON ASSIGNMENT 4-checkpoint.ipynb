{
 "cells": [
  {
   "cell_type": "markdown",
   "id": "849adac3",
   "metadata": {},
   "source": [
    "1 . What exactly is []?"
   ]
  },
  {
   "cell_type": "markdown",
   "id": "7063a312",
   "metadata": {},
   "source": [
    "A: [ ] is a list. list is defined as a datatype and if\n",
    "we place any value in the [ ] it will be the list value\n",
    "within the brackets"
   ]
  },
  {
   "cell_type": "markdown",
   "id": "8f359e55",
   "metadata": {},
   "source": [
    "2.In a list of values stored in a variable called spam, how would you assign the value &#39;hello&#39; as the\n",
    "third value? (Assume [2, 4, 6, 8, 10] are in spam.)"
   ]
  },
  {
   "cell_type": "code",
   "execution_count": 1,
   "id": "80008312",
   "metadata": {},
   "outputs": [
    {
     "data": {
      "text/plain": [
       "[2, 4, 'hello', 8, 10]"
      ]
     },
     "execution_count": 1,
     "metadata": {},
     "output_type": "execute_result"
    }
   ],
   "source": [
    "spam = [2,4,6,8,10]\n",
    "spam[2] = 'hello'\n",
    "spam"
   ]
  },
  {
   "cell_type": "markdown",
   "id": "cee0f142",
   "metadata": {},
   "source": [
    "Let's pretend the spam includes the list ['a', 'b',' c', 'd'] for the next three queries.\n"
   ]
  },
  {
   "cell_type": "markdown",
   "id": "7a0d646f",
   "metadata": {},
   "source": [
    "3 . What is the value of spam[int(int('3'* 2) / 11)]?"
   ]
  },
  {
   "cell_type": "code",
   "execution_count": 2,
   "id": "d08a2806",
   "metadata": {},
   "outputs": [
    {
     "data": {
      "text/plain": [
       "'d'"
      ]
     },
     "execution_count": 2,
     "metadata": {},
     "output_type": "execute_result"
    }
   ],
   "source": [
    "spam = ['a','b','c','d']\n",
    "spam[int(int('3'*2)/11)]"
   ]
  },
  {
   "cell_type": "markdown",
   "id": "c583669a",
   "metadata": {},
   "source": [
    "4 . What is the value of spam[-1]?"
   ]
  },
  {
   "cell_type": "code",
   "execution_count": 3,
   "id": "66942fcb",
   "metadata": {},
   "outputs": [
    {
     "data": {
      "text/plain": [
       "'d'"
      ]
     },
     "execution_count": 3,
     "metadata": {},
     "output_type": "execute_result"
    }
   ],
   "source": [
    "spam[-1]"
   ]
  },
  {
   "cell_type": "markdown",
   "id": "77743f52",
   "metadata": {},
   "source": [
    "5 . What is the value of spam[:2]?"
   ]
  },
  {
   "cell_type": "code",
   "execution_count": 4,
   "id": "c3bb1db1",
   "metadata": {},
   "outputs": [
    {
     "data": {
      "text/plain": [
       "['a', 'b']"
      ]
     },
     "execution_count": 4,
     "metadata": {},
     "output_type": "execute_result"
    }
   ],
   "source": [
    "spam[:2]"
   ]
  },
  {
   "cell_type": "markdown",
   "id": "9d34e910",
   "metadata": {},
   "source": [
    "Let's pretend bacon has the list [3.14,'cat,'11,'cat,' True] for the next three questions."
   ]
  },
  {
   "cell_type": "markdown",
   "id": "2a9481d7",
   "metadata": {},
   "source": [
    "6 . What is the value of bacon.index(&#39;cat&#39;)?"
   ]
  },
  {
   "cell_type": "code",
   "execution_count": 5,
   "id": "4dd9b816",
   "metadata": {},
   "outputs": [
    {
     "data": {
      "text/plain": [
       "1"
      ]
     },
     "execution_count": 5,
     "metadata": {},
     "output_type": "execute_result"
    }
   ],
   "source": [
    "bacon = [3.14,'cat',11,'cat',True] \n",
    "bacon.index('cat')"
   ]
  },
  {
   "cell_type": "markdown",
   "id": "265ac825",
   "metadata": {},
   "source": [
    "7 . How does bacon.append(99) change the look of the list value in bacon?"
   ]
  },
  {
   "cell_type": "code",
   "execution_count": 6,
   "id": "a227395a",
   "metadata": {},
   "outputs": [
    {
     "data": {
      "text/plain": [
       "[3.14, 'cat', 11, 'cat', True, 99]"
      ]
     },
     "execution_count": 6,
     "metadata": {},
     "output_type": "execute_result"
    }
   ],
   "source": [
    "bacon.append(99)\n",
    "bacon"
   ]
  },
  {
   "cell_type": "markdown",
   "id": "f0917f0e",
   "metadata": {},
   "source": [
    "8 . How does bacon.remove(&#39;cat&#39;) change the look of the list in bacon?"
   ]
  },
  {
   "cell_type": "code",
   "execution_count": 7,
   "id": "d61146a9",
   "metadata": {},
   "outputs": [
    {
     "data": {
      "text/plain": [
       "[3.14, 11, 'cat', True, 99]"
      ]
     },
     "execution_count": 7,
     "metadata": {},
     "output_type": "execute_result"
    }
   ],
   "source": [
    "bacon.remove('cat')\n",
    "bacon"
   ]
  },
  {
   "cell_type": "markdown",
   "id": "2ef0604b",
   "metadata": {},
   "source": [
    "9 . What are the list concatenation and list replication operators?"
   ]
  },
  {
   "cell_type": "markdown",
   "id": "d34d681c",
   "metadata": {},
   "source": [
    "A: For list concatenation + is the operator and for \n",
    "the list replication * is the operator.."
   ]
  },
  {
   "cell_type": "markdown",
   "id": "26538d90",
   "metadata": {},
   "source": [
    "10 . What is difference between the list methods append() and insert()?"
   ]
  },
  {
   "cell_type": "markdown",
   "id": "97978967",
   "metadata": {},
   "source": [
    "A: List method append() means it will appends the value at the last index in the list of values,whereas in insert() method we can give a specific index to fill a value or element.."
   ]
  },
  {
   "cell_type": "markdown",
   "id": "bd7968b8",
   "metadata": {},
   "source": [
    "11 . What are the two methods for removing items from a list?"
   ]
  },
  {
   "cell_type": "markdown",
   "id": "7a995fa6",
   "metadata": {},
   "source": [
    "A: remove() and clear() method is used for removing\n",
    "items in a list"
   ]
  },
  {
   "cell_type": "markdown",
   "id": "0a1b5030",
   "metadata": {},
   "source": [
    "12 . Describe how list values and string values are identical."
   ]
  },
  {
   "cell_type": "markdown",
   "id": "baab46c3",
   "metadata": {},
   "source": [
    "A:List and strings are almost similar because the\n",
    "both types has ordered collection of characters.\n",
    "The only difference is that in list we can have\n",
    "no. of different datatypes as a elements,whereas\n",
    "in a string we need to have only string elements."
   ]
  },
  {
   "cell_type": "markdown",
   "id": "b7b212dd",
   "metadata": {},
   "source": [
    "13 . What&#39;s the difference between tuples and lists?"
   ]
  },
  {
   "cell_type": "markdown",
   "id": "87e4dd74",
   "metadata": {},
   "source": [
    "A: tuples is identified by normal brackets (),\n",
    "    and they are immutable.Whereas the list\n",
    "    is identified by square brackets [ ], and\n",
    "    they are mutable objects.."
   ]
  },
  {
   "cell_type": "markdown",
   "id": "716fc935",
   "metadata": {},
   "source": [
    "14 . How do you type a tuple value that only contains the integer 42?"
   ]
  },
  {
   "cell_type": "code",
   "execution_count": 8,
   "id": "a5443e45",
   "metadata": {},
   "outputs": [
    {
     "data": {
      "text/plain": [
       "tuple"
      ]
     },
     "execution_count": 8,
     "metadata": {},
     "output_type": "execute_result"
    }
   ],
   "source": [
    "Tuple = (42,)\n",
    "type(Tuple)"
   ]
  },
  {
   "cell_type": "markdown",
   "id": "c932551d",
   "metadata": {},
   "source": [
    "15 . How do you get a list value&#39;s tuple form? How do you get a tuple value&#39;s list form?"
   ]
  },
  {
   "cell_type": "code",
   "execution_count": 9,
   "id": "e9fa33cd",
   "metadata": {},
   "outputs": [
    {
     "name": "stdout",
     "output_type": "stream",
     "text": [
      "<class 'tuple'>\n",
      "\n",
      "<class 'list'>\n"
     ]
    }
   ],
   "source": [
    "l = tuple([1,2,3])\n",
    "print(type(l))\n",
    "\n",
    "print(end = \"\\n\")\n",
    "\n",
    "t = list((42,))\n",
    "print(type(t))\n"
   ]
  },
  {
   "cell_type": "markdown",
   "id": "fc08050b",
   "metadata": {},
   "source": [
    "16 . Variables that &quot;contain&quot; list values are not necessarily lists themselves. Instead, what do they\n",
    "contain?"
   ]
  },
  {
   "cell_type": "markdown",
   "id": "beab250e",
   "metadata": {},
   "source": [
    "A:They may contain strings ,int, float, dictionary, set, and also list.."
   ]
  },
  {
   "cell_type": "markdown",
   "id": "fa2f8ee5",
   "metadata": {},
   "source": [
    "17. How do you distinguish between copy.copy() and copy.deepcopy()?"
   ]
  },
  {
   "cell_type": "markdown",
   "id": "000baa1f",
   "metadata": {},
   "source": [
    "A: copy.copy() creates reference to original object,if you change the copied object then the original object will also changes.Whereas the copy.deepcopy() creates a new object copied by original one,and by changing the new object there will be no effect on the original object"
   ]
  },
  {
   "cell_type": "code",
   "execution_count": null,
   "id": "6a19ef89",
   "metadata": {},
   "outputs": [],
   "source": []
  }
 ],
 "metadata": {
  "kernelspec": {
   "display_name": "Python 3 (ipykernel)",
   "language": "python",
   "name": "python3"
  },
  "language_info": {
   "codemirror_mode": {
    "name": "ipython",
    "version": 3
   },
   "file_extension": ".py",
   "mimetype": "text/x-python",
   "name": "python",
   "nbconvert_exporter": "python",
   "pygments_lexer": "ipython3",
   "version": "3.9.7"
  }
 },
 "nbformat": 4,
 "nbformat_minor": 5
}
