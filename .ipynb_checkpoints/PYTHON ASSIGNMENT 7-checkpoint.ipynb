{
 "cells": [
  {
   "cell_type": "markdown",
   "id": "cf931d69",
   "metadata": {},
   "source": [
    "1 . What is the name of the feature responsible for generating Regex objects?"
   ]
  },
  {
   "cell_type": "markdown",
   "id": "d8aecbd3",
   "metadata": {},
   "source": [
    "A: The re.compile() is responsible for generating  regex objects"
   ]
  },
  {
   "cell_type": "markdown",
   "id": "b9e735e4",
   "metadata": {},
   "source": [
    "2 . Why do raw strings often appear in Regex objects?"
   ]
  },
  {
   "cell_type": "markdown",
   "id": "3a66054e",
   "metadata": {},
   "source": [
    "A: Raw strings are used because the backslash characters not to be escaped"
   ]
  },
  {
   "cell_type": "markdown",
   "id": "18760fcb",
   "metadata": {},
   "source": [
    "3 . What is the return value of the search() method?"
   ]
  },
  {
   "cell_type": "code",
   "execution_count": 29,
   "id": "790ceaf8",
   "metadata": {},
   "outputs": [
    {
     "name": "stdout",
     "output_type": "stream",
     "text": [
      "<re.Match object; span=(5, 8), match='aai'>\n"
     ]
    }
   ],
   "source": [
    "\n",
    "\n",
    "#The search() function returns a Match object:\n",
    "\n",
    "txt = \"The raain in Spain\"\n",
    "x = re.search(\"aai\", txt)\n",
    "print(x)\n"
   ]
  },
  {
   "cell_type": "markdown",
   "id": "2413f035",
   "metadata": {},
   "source": [
    "4 . From a Match item, how do you get the actual strings that match the pattern?"
   ]
  },
  {
   "cell_type": "markdown",
   "id": "2468290d",
   "metadata": {},
   "source": [
    "A: The group () method returns the actual strings that \n",
    "    match the pattern"
   ]
  },
  {
   "cell_type": "markdown",
   "id": "de1bcfe1",
   "metadata": {},
   "source": [
    "5 . In the regex which created from the r&#39;(\\d\\d\\d)-(\\d\\d\\d-\\d\\d\\d\\d)&#39;, what does group zero cover?\n",
    "Group 2? Group 1?"
   ]
  },
  {
   "cell_type": "markdown",
   "id": "6e13b8d0",
   "metadata": {},
   "source": [
    "A: Group zero covers the entire string,\n",
    "\n",
    "Group 1 covers the first set of parenthesis,\n",
    "\n",
    "and Group 2 coversthe second set of parenthesis.."
   ]
  },
  {
   "cell_type": "markdown",
   "id": "f74f38e0",
   "metadata": {},
   "source": [
    "6 . In standard expression syntax, parentheses and intervals have distinct meanings. How can you tell\n",
    "a regex that you want it to fit real parentheses and periods?"
   ]
  },
  {
   "cell_type": "markdown",
   "id": "95052fbb",
   "metadata": {},
   "source": [
    "A:Periods and parentheses can be escaped with a backslash: \n",
    "\n",
    "\\ ., \\\\ (, and \\\\)."
   ]
  },
  {
   "cell_type": "markdown",
   "id": "5c7b7379",
   "metadata": {},
   "source": [
    "7 . The findall() method returns a string list or a list of string tuples. What causes it to return one of\n",
    "the two options?"
   ]
  },
  {
   "cell_type": "markdown",
   "id": "f8c0f424",
   "metadata": {},
   "source": [
    "A:It returns a string list"
   ]
  },
  {
   "cell_type": "markdown",
   "id": "be2180ec",
   "metadata": {},
   "source": [
    "8 . In standard expressions, what does the | character mean?"
   ]
  },
  {
   "cell_type": "markdown",
   "id": "a432ae13",
   "metadata": {},
   "source": [
    "A:The | character signifies matching \"either, or\" between two groups."
   ]
  },
  {
   "cell_type": "markdown",
   "id": "f46ea12f",
   "metadata": {},
   "source": [
    "9 . In regular expressions, what does the character stand for?"
   ]
  },
  {
   "cell_type": "markdown",
   "id": "5c1b7a13",
   "metadata": {},
   "source": [
    "A: A character in regular expressions is a explicit list of characters that may qualify in a search.. "
   ]
  },
  {
   "cell_type": "markdown",
   "id": "b530a9a2",
   "metadata": {},
   "source": [
    "10.In regular expressions, what is the difference between the + and * characters?"
   ]
  },
  {
   "cell_type": "markdown",
   "id": "cdb4907b",
   "metadata": {},
   "source": [
    "A: The + matches one or more, the * matches zero or more"
   ]
  },
  {
   "cell_type": "markdown",
   "id": "f9c75028",
   "metadata": {},
   "source": [
    "11 . What is the difference between {4} and {4,5} in regular expression?"
   ]
  },
  {
   "cell_type": "markdown",
   "id": "bac1f0d6",
   "metadata": {},
   "source": [
    "A:The preceding item is matched 4 or more times,  i.e., m+\n",
    "{4,5}: The preceding item is matched at least 4 times, but not more than 5 times."
   ]
  },
  {
   "cell_type": "markdown",
   "id": "1467aecd",
   "metadata": {},
   "source": [
    "12 . What do you mean by the \\d, \\w, and \\s shorthand character classes signify in regular\n",
    "expressions?"
   ]
  },
  {
   "cell_type": "markdown",
   "id": "8c091864",
   "metadata": {},
   "source": [
    "A:\\d:Returns a match where the string contains digits(numbers from 0-9)\n",
    "\n",
    "\\w: Returns a match where the string contains word characters(characters from a to Z,digits from 0-9,and the underscore_character)\n",
    "\n",
    "\\s:Returns a match where the string contains a white space character"
   ]
  },
  {
   "cell_type": "markdown",
   "id": "4efc3e17",
   "metadata": {},
   "source": [
    "13 . What do means by \\D, \\W, and \\S shorthand character classes signify in regular expressions?"
   ]
  },
  {
   "cell_type": "markdown",
   "id": "36f40959",
   "metadata": {},
   "source": [
    "A: \\D: Returns a match where the string DOES NOT contain digits.\n",
    "\n",
    "\\W:Returns a match where the string DOES NOT contain word characters\n",
    "\n",
    "\\S:Returns a match where the string DOES NOT contain a white space character"
   ]
  },
  {
   "cell_type": "markdown",
   "id": "35fbb7d5",
   "metadata": {},
   "source": [
    "14 . What is the difference between .*? and .*?"
   ]
  },
  {
   "cell_type": "markdown",
   "id": "b88a8a16",
   "metadata": {},
   "source": [
    "A: The . character mean any character,* mean 0 or any character,? mean 0 or one character.In the above question their is no difference between the two groups..because in the given question the signs of metacharacters are same.."
   ]
  },
  {
   "cell_type": "markdown",
   "id": "824067c3",
   "metadata": {},
   "source": [
    "15 . What is the syntax for matching both numbers and lowercase letters with a character class?"
   ]
  },
  {
   "cell_type": "markdown",
   "id": "a3e05f16",
   "metadata": {},
   "source": [
    "A: The syntax for matching both numbers and letters\n",
    "    is: [a-zA-Z0-9]"
   ]
  },
  {
   "cell_type": "markdown",
   "id": "af561902",
   "metadata": {},
   "source": [
    "16 . What is the procedure for making a normal expression in regax case insensitive?"
   ]
  },
  {
   "cell_type": "markdown",
   "id": "e8c0dae6",
   "metadata": {},
   "source": [
    "A:Use the (?i) and [optionally] (?-i) mode modifiers: (?i)G[a-b](?-i).*\n",
    "Put all the variations (i.e. lowercase and uppercase) in the regex - useful if mode modifiers are not supported: [gG][a-bA-B].*"
   ]
  },
  {
   "cell_type": "markdown",
   "id": "ba840a8a",
   "metadata": {},
   "source": [
    "17 . What does the . character normally match? What does it match if re.DOTALL is passed as 2nd\n",
    "argument in re.compile()?"
   ]
  },
  {
   "cell_type": "code",
   "execution_count": 4,
   "id": "eca2f9bd",
   "metadata": {},
   "outputs": [
    {
     "name": "stdout",
     "output_type": "stream",
     "text": [
      "['T', 'h', 'i', 's', ' ', 'i', 's', ' ', 'm', 'y', ' ', 'r', 'e', 'g', 'e', 'x', ' ', 'a', 's', 's', 'i', 'g', 'n', 'm', 'e', 'n', 't']\n"
     ]
    }
   ],
   "source": [
    "#It will give the any characters which will matches\n",
    "#to a given specified pattern..\n",
    "#Example:\n",
    "st = \"This is my regex assignment\"\n",
    "import re\n",
    "res = re.compile(\".\")\n",
    "res = res.findall(st)\n",
    "print(res)"
   ]
  },
  {
   "cell_type": "markdown",
   "id": "c214e0b2",
   "metadata": {},
   "source": [
    "18 . If numReg = re.compile(r&#39;\\d+&#39;), what will numRegex.sub(&#39;X&#39;, &#39;11 drummers, 10 pipers, five rings, 4\n",
    "hen&#39;) return?"
   ]
  },
  {
   "cell_type": "code",
   "execution_count": 6,
   "id": "4bdcd0f2",
   "metadata": {},
   "outputs": [
    {
     "data": {
      "text/plain": [
       "'X drummers,X pipers,five rings,X hen'"
      ]
     },
     "execution_count": 6,
     "metadata": {},
     "output_type": "execute_result"
    }
   ],
   "source": [
    "import re\n",
    "numReg = re.compile(r'\\d+')\n",
    "numReg.sub(\"X\",\"11 drummers,10 pipers,five rings,4 hen\")"
   ]
  },
  {
   "cell_type": "markdown",
   "id": "18b364cb",
   "metadata": {},
   "source": [
    "19 . What does passing re.VERBOSE as the 2nd argument to re.compile() allow to do?"
   ]
  },
  {
   "cell_type": "code",
   "execution_count": 17,
   "id": "10d02a70",
   "metadata": {},
   "outputs": [
    {
     "name": "stdout",
     "output_type": "stream",
     "text": [
      "['T', 'h', 'i', 's', ' ', 'i', 's', ' ', 'm', 'y', ' ', 'r', 'e', 'g', 'e', 'x', ' ', 'a', 's', 's', 'i', 'g', 'n', 'm', 'e', 'n', 't']\n"
     ]
    }
   ],
   "source": [
    "import re\n",
    "st = \"This is my regex assignment\"\n",
    "res = re.compile(\".\",flags=re.VERBOSE)\n",
    "res = res.findall(st)\n",
    "print(res)"
   ]
  },
  {
   "cell_type": "markdown",
   "id": "5386341a",
   "metadata": {},
   "source": [
    "20 . How would you write a regex that match a number with comma for every three digits? It must\n",
    "match the given following:\n",
    "&#39;42&#39;\n",
    "&#39;1,234&#39;\n",
    "&#39;6,368,745&#39;\n",
    "\n",
    "but not the following:\n",
    "&#39;12,34,567&#39; (which has only two digits between the commas)\n",
    "&#39;1234&#39; (which lacks commas)"
   ]
  },
  {
   "cell_type": "code",
   "execution_count": 33,
   "id": "f977d1ea",
   "metadata": {},
   "outputs": [
    {
     "name": "stdout",
     "output_type": "stream",
     "text": [
      "['421', '234', '368', '745']\n"
     ]
    }
   ],
   "source": [
    "st = '42''1,234' '6,368,745'\n",
    "import re\n",
    "res = re.compile('[0-9][0-9][0-9]')\n",
    "res = res.findall(st)\n",
    "print(res)"
   ]
  },
  {
   "cell_type": "markdown",
   "id": "9eedebc4",
   "metadata": {},
   "source": [
    "21 . How would you write a regex that matches the full name of someone whose last name is\n",
    "Watanabe? You can assume that the first name that comes before it will always be one word that\n",
    "begins with a capital letter. The regex must match the following:\n",
    "&#39;Haruto Watanabe&#39;\n",
    "&#39;Alice Watanabe&#39;\n",
    "&#39;RoboCop Watanabe&#39;\n",
    "but not the following:\n",
    "&#39;haruto Watanabe&#39; (where the first name is not capitalized)\n",
    "&#39;Mr. Watanabe&#39; (where the preceding word has a nonletter character)\n",
    "&#39;Watanabe&#39; (which has no first name)\n",
    "&#39;Haruto watanabe&#39; (where Watanabe is not capitalized)"
   ]
  },
  {
   "cell_type": "code",
   "execution_count": 172,
   "id": "2168bcac",
   "metadata": {},
   "outputs": [
    {
     "name": "stdout",
     "output_type": "stream",
     "text": [
      "Haruto Watanabe\n",
      "Alice Watanabe\n",
      "RoboCop Watanabe\n"
     ]
    }
   ],
   "source": [
    "txt = \"\"\"\n",
    "Haruto Watanabe\n",
    "Alice Watanabe\n",
    "RoboCop Watanabe\n",
    "haruto Watanabe\n",
    "Mr.Watanabe\n",
    "Haruto watanabe\"\"\"\n",
    "\n",
    "\n",
    "\n",
    "import re\n",
    "pattern = re.compile(r'[A-Z][a-zA-Z]+\\sWatanabe')\n",
    "matches = pattern.finditer(txt)\n",
    "for match in matches:\n",
    "    print(match.group(0))"
   ]
  },
  {
   "cell_type": "markdown",
   "id": "b28392e4",
   "metadata": {},
   "source": [
    "22 . How would you write a regex that matches a sentence where the first word is either Alice, Bob,\n",
    "or Carol; the second word is either eats, pets, or throws; the third word is apples, cats, or baseballs;\n",
    "and the sentence ends with a period? This regex should be case-insensitive. It must match the\n",
    "following:\n",
    "&#39;Alice eats apples.&#39;\n",
    "&#39;Bob pets cats.&#39;\n",
    "&#39;Carol throws baseballs.&#39;\n",
    "&#39;Alice throws Apples.&#39;\n",
    "&#39;BOB EATS CATS.&#39;\n",
    "but not the following:\n",
    "&#39;RoboCop eats apples.&#39;\n",
    "&#39;ALICE THROWS FOOTBALLS.&#39;\n",
    "&#39;Carol eats 7 cats.&#39;"
   ]
  },
  {
   "cell_type": "code",
   "execution_count": 173,
   "id": "86f3239a",
   "metadata": {},
   "outputs": [],
   "source": [
    "text = \"\"\"\n",
    "Alice eats apples.\n",
    "Bob pets cats.\n",
    "Carol throws baseballs.\n",
    "Alice throws Apples.\n",
    "BOB EATS CATS.\n",
    "but not the following:\n",
    "RoboCop eats apples.\n",
    "ALICE THROWS FOOTBALLS.\n",
    "Carol eats 7 cats.\"\"\""
   ]
  },
  {
   "cell_type": "code",
   "execution_count": 182,
   "id": "657621ae",
   "metadata": {},
   "outputs": [
    {
     "name": "stdout",
     "output_type": "stream",
     "text": [
      "Alice eats apples\n",
      "Bob pets cats\n",
      "Carol throws baseballs.\n"
     ]
    }
   ],
   "source": [
    "import re\n",
    "pattern = re.compile(r'(Alice|Bob|Carol)\\s(eats|pets|throws)\\s(apples|cats|baseballs\\.)')\n",
    "matches = pattern.finditer(text)\n",
    "\n",
    "for match in matches:\n",
    "    print(match.group(0))"
   ]
  },
  {
   "cell_type": "code",
   "execution_count": null,
   "id": "f988e2c1",
   "metadata": {},
   "outputs": [],
   "source": []
  }
 ],
 "metadata": {
  "kernelspec": {
   "display_name": "Python 3 (ipykernel)",
   "language": "python",
   "name": "python3"
  },
  "language_info": {
   "codemirror_mode": {
    "name": "ipython",
    "version": 3
   },
   "file_extension": ".py",
   "mimetype": "text/x-python",
   "name": "python",
   "nbconvert_exporter": "python",
   "pygments_lexer": "ipython3",
   "version": "3.9.7"
  }
 },
 "nbformat": 4,
 "nbformat_minor": 5
}
