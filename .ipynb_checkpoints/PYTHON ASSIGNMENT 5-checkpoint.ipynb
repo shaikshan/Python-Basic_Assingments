{
 "cells": [
  {
   "cell_type": "markdown",
   "id": "8532c8e9",
   "metadata": {},
   "source": [
    "1 . What does an empty dictionary&#39;s code look like?"
   ]
  },
  {
   "cell_type": "markdown",
   "id": "dcf8d114",
   "metadata": {},
   "source": [
    "A: An empty dictionary's code is {}"
   ]
  },
  {
   "cell_type": "markdown",
   "id": "667576f5",
   "metadata": {},
   "source": [
    "2 . What is the value of a dictionary value with the key &#39;foo&#39; and the value 42?\n"
   ]
  },
  {
   "cell_type": "markdown",
   "id": "4e01cfc1",
   "metadata": {},
   "source": [
    "A: The items in dictionary are unordered"
   ]
  },
  {
   "cell_type": "markdown",
   "id": "e47b00d8",
   "metadata": {},
   "source": [
    "3 . What is the most significant distinction between a dictionary and a list?"
   ]
  },
  {
   "cell_type": "markdown",
   "id": "da7234ff",
   "metadata": {},
   "source": [
    "A: List is the collection of oredered indexes which are integers start from 0.\n",
    "\n",
    "Whereas in dictionary it is key:value pair in which key act as a index to that value, the indexes may be any datatype in dictionary,\n",
    "but in list it should only integers start from 0."
   ]
  },
  {
   "cell_type": "markdown",
   "id": "2645563e",
   "metadata": {},
   "source": [
    "4 . What happens if you try to access spam[&#39;foo&#39;] if spam is {&#39;bar&#39;: 100}?"
   ]
  },
  {
   "cell_type": "code",
   "execution_count": 2,
   "id": "8ffab104",
   "metadata": {},
   "outputs": [
    {
     "ename": "KeyError",
     "evalue": "'foo'",
     "output_type": "error",
     "traceback": [
      "\u001b[1;31m---------------------------------------------------------------------------\u001b[0m",
      "\u001b[1;31mKeyError\u001b[0m                                  Traceback (most recent call last)",
      "\u001b[1;32m~\\AppData\\Local\\Temp/ipykernel_19388/4026577702.py\u001b[0m in \u001b[0;36m<module>\u001b[1;34m\u001b[0m\n\u001b[0;32m      1\u001b[0m \u001b[0mspam\u001b[0m \u001b[1;33m=\u001b[0m \u001b[1;33m{\u001b[0m\u001b[1;34m'bar'\u001b[0m\u001b[1;33m:\u001b[0m\u001b[1;36m100\u001b[0m\u001b[1;33m}\u001b[0m\u001b[1;33m\u001b[0m\u001b[1;33m\u001b[0m\u001b[0m\n\u001b[1;32m----> 2\u001b[1;33m \u001b[0mspam\u001b[0m\u001b[1;33m[\u001b[0m\u001b[1;34m'foo'\u001b[0m\u001b[1;33m]\u001b[0m\u001b[1;33m\u001b[0m\u001b[1;33m\u001b[0m\u001b[0m\n\u001b[0m",
      "\u001b[1;31mKeyError\u001b[0m: 'foo'"
     ]
    }
   ],
   "source": [
    "spam = {'bar':100}\n",
    "spam['foo']"
   ]
  },
  {
   "cell_type": "markdown",
   "id": "13195d1b",
   "metadata": {},
   "source": [
    "5 . If a dictionary is stored in spam, what is the difference between the expressions &#39;cat&#39; in spam and\n",
    "&#39;cat&#39; in spam.keys()?"
   ]
  },
  {
   "cell_type": "markdown",
   "id": "21adf563",
   "metadata": {},
   "source": [
    "A: There will be no difference, because the in operator checks whether there is a key 'cat' in the dictionary spam, and 'cat' in spam.keys() will also check whether there is key 'cat' in the dictionary or not..\n",
    "    "
   ]
  },
  {
   "cell_type": "markdown",
   "id": "bd7115bc",
   "metadata": {},
   "source": [
    "6 . If a dictionary is stored in spam, what is the difference between the expressions &#39;cat&#39; in spam and\n",
    "&#39;cat&#39; in spam.values()?"
   ]
  },
  {
   "cell_type": "markdown",
   "id": "1849b233",
   "metadata": {},
   "source": [
    "A:The difference is, the in operator in 'cat' in spam\n",
    "checks whether there is a key 'cat' exists or not,whereas the expression 'cat' in spam.values() will checks whether there is a value 'cat' exists in\n",
    "the dictionary spam or not..."
   ]
  },
  {
   "cell_type": "markdown",
   "id": "dcc09918",
   "metadata": {},
   "source": [
    "7 . What is a shortcut for the following code?\n",
    "if &#39;color&#39; not in spam:\n",
    "spam[&#39;color&#39;] = &#39;black&#39;"
   ]
  },
  {
   "cell_type": "code",
   "execution_count": 3,
   "id": "3d740d48",
   "metadata": {},
   "outputs": [
    {
     "data": {
      "text/plain": [
       "{'color': 'black'}"
      ]
     },
     "execution_count": 3,
     "metadata": {},
     "output_type": "execute_result"
    }
   ],
   "source": [
    "spam = {}\n",
    "spam['color'] = 'black'\n",
    "spam"
   ]
  },
  {
   "cell_type": "markdown",
   "id": "133bdaa8",
   "metadata": {},
   "source": [
    "8 . How do you &quot;pretty print&quot; dictionary values using which module and function?\n"
   ]
  },
  {
   "cell_type": "code",
   "execution_count": 7,
   "id": "6f0ac1d0",
   "metadata": {},
   "outputs": [
    {
     "name": "stdout",
     "output_type": "stream",
     "text": [
      "[{'Age': '23', 'Country': 'USA', 'Name': 'John'},\n",
      " {'Age': '44', 'Country': 'Spain', 'Name': 'Jose'},\n",
      " {'Age': '29', 'Country': 'UK', 'Name': 'Anne'},\n",
      " {'Age': '35', 'Country': 'Japan', 'Name': 'Lee'}]\n"
     ]
    }
   ],
   "source": [
    "import pprint\n",
    "dct_arr = [\n",
    "  {'Name': 'John', 'Age': '23', 'Country': 'USA'},\n",
    "  {'Name': 'Jose', 'Age': '44', 'Country': 'Spain'},\n",
    "  {'Name': 'Anne', 'Age': '29', 'Country': 'UK'},\n",
    "  {'Name': 'Lee', 'Age': '35', 'Country': 'Japan'}\n",
    "]\n",
    "\n",
    "pprint.pprint(dct_arr)\n"
   ]
  }
 ],
 "metadata": {
  "kernelspec": {
   "display_name": "Python 3 (ipykernel)",
   "language": "python",
   "name": "python3"
  },
  "language_info": {
   "codemirror_mode": {
    "name": "ipython",
    "version": 3
   },
   "file_extension": ".py",
   "mimetype": "text/x-python",
   "name": "python",
   "nbconvert_exporter": "python",
   "pygments_lexer": "ipython3",
   "version": "3.9.7"
  }
 },
 "nbformat": 4,
 "nbformat_minor": 5
}
