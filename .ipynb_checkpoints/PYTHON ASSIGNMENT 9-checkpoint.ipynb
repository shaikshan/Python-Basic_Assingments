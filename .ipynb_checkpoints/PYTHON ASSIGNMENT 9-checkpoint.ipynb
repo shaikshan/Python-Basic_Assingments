{
 "cells": [
  {
   "cell_type": "markdown",
   "id": "84e82615",
   "metadata": {},
   "source": [
    "1 . To what does a relative path refer?"
   ]
  },
  {
   "cell_type": "markdown",
   "id": "5243bb59",
   "metadata": {},
   "source": [
    "Ans: A relative path refers to a location that is relative to a current directory. Relative paths make use of two special symbols, a dot (.) and a double-dot (..), which translate into the current directory and the parent directory. Double dots are used for moving up in the hierarchy."
   ]
  },
  {
   "cell_type": "markdown",
   "id": "72df3b00",
   "metadata": {},
   "source": [
    "2 . What does an absolute path start with your operating system?"
   ]
  },
  {
   "cell_type": "markdown",
   "id": "44d70140",
   "metadata": {},
   "source": [
    "Ans: An absolute, or full, path begins with a drive letter followed by a colon, such as D:"
   ]
  },
  {
   "cell_type": "markdown",
   "id": "2641ab6b",
   "metadata": {},
   "source": [
    "3 . What do the functions os.getcwd() and os.chdir() do?"
   ]
  },
  {
   "cell_type": "markdown",
   "id": "5efee6ce",
   "metadata": {},
   "source": [
    "Ans: os.getcwd() method gives the current working directory,\n",
    "    whereas os.chdir() method changes the current directory to the directory path which has given as a parameter."
   ]
  },
  {
   "cell_type": "code",
   "execution_count": 9,
   "id": "cbf0880c",
   "metadata": {},
   "outputs": [
    {
     "name": "stdout",
     "output_type": "stream",
     "text": [
      "C:\\Users\\Munna\n"
     ]
    }
   ],
   "source": [
    "import os\n",
    "print(os.getcwd())"
   ]
  },
  {
   "cell_type": "code",
   "execution_count": 22,
   "id": "588ecf9d",
   "metadata": {},
   "outputs": [
    {
     "name": "stdout",
     "output_type": "stream",
     "text": [
      "None\n"
     ]
    }
   ],
   "source": [
    "import os\n",
    "print(os.chdir(r\"C:\\Users\\Munna\"))"
   ]
  },
  {
   "cell_type": "markdown",
   "id": "382ee69b",
   "metadata": {},
   "source": [
    "4 . What are the . and .. folders?"
   ]
  },
  {
   "cell_type": "code",
   "execution_count": null,
   "id": "8a24b9c9",
   "metadata": {},
   "outputs": [],
   "source": [
    "Ans:"
   ]
  },
  {
   "cell_type": "markdown",
   "id": "ead4add0",
   "metadata": {},
   "source": [
    "5. In C:\\bacon\\eggs\\spam.txt, which part is the dir name, and which part is the base name?"
   ]
  },
  {
   "cell_type": "code",
   "execution_count": 26,
   "id": "2dd08c5e",
   "metadata": {},
   "outputs": [
    {
     "name": "stdout",
     "output_type": "stream",
     "text": [
      "Dir name: C:\bacon\\eggs\n",
      "Base name: spam.txt\n"
     ]
    }
   ],
   "source": [
    "import os\n",
    "print(\"Dir name:\",os.path.dirname(\"C:\\bacon\\eggs\\spam.txt\"))\n",
    "print(\"Base name:\",os.path.basename(\"C:\\bacon\\eggs\\spam.txt\"))"
   ]
  },
  {
   "cell_type": "markdown",
   "id": "83f99c1b",
   "metadata": {},
   "source": [
    "6 . What are the three “mode” arguments that can be passed to the open() function?"
   ]
  },
  {
   "cell_type": "markdown",
   "id": "9dce9338",
   "metadata": {},
   "source": [
    "A: open(\"file_name\",'r') # For reading the file\n",
    "\n",
    "open(\"file_name\",'w') # For writing the file\n",
    "\n",
    "open(\"file_name\",'a') # Append the information starts at the end,\n",
    "                      # Creates the file if it does not exist."
   ]
  },
  {
   "cell_type": "markdown",
   "id": "87b7ad93",
   "metadata": {},
   "source": [
    "7 . What happens if an existing file is opened in write mode?"
   ]
  },
  {
   "cell_type": "markdown",
   "id": "d7083e9e",
   "metadata": {},
   "source": [
    "If the existing file is opened in write mode,\n",
    "the information within the file is discarded\n",
    "and it is treated as new file.."
   ]
  },
  {
   "cell_type": "markdown",
   "id": "8854e23e",
   "metadata": {},
   "source": [
    "8 . How do you tell the difference between read() and readlines()?"
   ]
  },
  {
   "cell_type": "markdown",
   "id": "2a68647e",
   "metadata": {},
   "source": [
    "read(): read() will reads all the information of the file.\n",
    "\n",
    "readlines(): readlines() will read the file information line by line in the form of list.    "
   ]
  },
  {
   "cell_type": "markdown",
   "id": "3c48b9f0",
   "metadata": {},
   "source": [
    "9.What data structure does a shelf value resemble?"
   ]
  },
  {
   "cell_type": "markdown",
   "id": "6c956ec7",
   "metadata": {},
   "source": [
    "A shelf value resembles a dictionary value; it has keys and values, along with keys() and values() methods that work similarly to the dictionary methods of the same names."
   ]
  },
  {
   "cell_type": "code",
   "execution_count": null,
   "id": "2927d58b",
   "metadata": {},
   "outputs": [],
   "source": []
  }
 ],
 "metadata": {
  "kernelspec": {
   "display_name": "Python 3 (ipykernel)",
   "language": "python",
   "name": "python3"
  },
  "language_info": {
   "codemirror_mode": {
    "name": "ipython",
    "version": 3
   },
   "file_extension": ".py",
   "mimetype": "text/x-python",
   "name": "python",
   "nbconvert_exporter": "python",
   "pygments_lexer": "ipython3",
   "version": "3.9.7"
  }
 },
 "nbformat": 4,
 "nbformat_minor": 5
}
