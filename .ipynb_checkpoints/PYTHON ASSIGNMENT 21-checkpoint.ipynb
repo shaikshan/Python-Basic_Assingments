{
 "cells": [
  {
   "cell_type": "markdown",
   "id": "edd85581",
   "metadata": {},
   "source": [
    "1 . Add the current date to the text file today.txt as a string."
   ]
  },
  {
   "cell_type": "code",
   "execution_count": 1,
   "id": "79428421",
   "metadata": {},
   "outputs": [
    {
     "data": {
      "text/plain": [
       "'2022-08-04'"
      ]
     },
     "execution_count": 1,
     "metadata": {},
     "output_type": "execute_result"
    }
   ],
   "source": [
    "import datetime\n",
    "from datetime import date\n",
    "current = date.today()\n",
    "current_date = current.isoformat()\n",
    "current_date"
   ]
  },
  {
   "cell_type": "code",
   "execution_count": 2,
   "id": "cbc27545",
   "metadata": {},
   "outputs": [],
   "source": [
    "with open('today.txt','w') as file:\n",
    "    file.write(current_date)"
   ]
  },
  {
   "cell_type": "markdown",
   "id": "787199d9",
   "metadata": {},
   "source": [
    "2 . Read the text file today.txt into the string today_string"
   ]
  },
  {
   "cell_type": "code",
   "execution_count": 3,
   "id": "186fa503",
   "metadata": {},
   "outputs": [
    {
     "data": {
      "text/plain": [
       "'2022-08-04'"
      ]
     },
     "execution_count": 3,
     "metadata": {},
     "output_type": "execute_result"
    }
   ],
   "source": [
    "with open('today.txt','r') as file:\n",
    "    today_string = file.read()\n",
    "today_string"
   ]
  },
  {
   "cell_type": "markdown",
   "id": "94cda8d9",
   "metadata": {},
   "source": [
    "3 . Parse the date from today_string."
   ]
  },
  {
   "cell_type": "code",
   "execution_count": 4,
   "id": "ec7c39ec",
   "metadata": {},
   "outputs": [
    {
     "data": {
      "text/plain": [
       "datetime.datetime(2022, 8, 4, 0, 0)"
      ]
     },
     "execution_count": 4,
     "metadata": {},
     "output_type": "execute_result"
    }
   ],
   "source": [
    "from datetime import datetime\n",
    "parse = \"%Y-%m-%d\"\n",
    "datetime.strptime(today_string,parse)"
   ]
  },
  {
   "cell_type": "markdown",
   "id": "07fc77cc",
   "metadata": {},
   "source": [
    "4 . List the files in your current directory"
   ]
  },
  {
   "cell_type": "code",
   "execution_count": 6,
   "id": "bbab1db2",
   "metadata": {},
   "outputs": [
    {
     "data": {
      "text/plain": [
       "['.ipynb_checkpoints',\n",
       " 'books.csv',\n",
       " 'books.db',\n",
       " 'catdog.jpg',\n",
       " 'catdog1.png',\n",
       " 'PYTHON ASSIGNMENST 12.ipynb',\n",
       " 'PYTHON ASSIGNMENST 17.ipynb',\n",
       " 'PYTHON ASSIGNMENT 1.ipynb',\n",
       " 'PYTHON ASSIGNMENT 10.ipynb',\n",
       " 'PYTHON ASSIGNMENT 11.ipynb',\n",
       " 'PYTHON ASSIGNMENT 13.ipynb',\n",
       " 'PYTHON ASSIGNMENT 14.ipynb',\n",
       " 'PYTHON ASSIGNMENT 15.ipynb',\n",
       " 'PYTHON ASSIGNMENT 16.ipynb',\n",
       " 'PYTHON ASSIGNMENT 18.ipynb',\n",
       " 'PYTHON ASSIGNMENT 19.ipynb',\n",
       " 'PYTHON ASSIGNMENT 2.ipynb',\n",
       " 'PYTHON ASSIGNMENT 3.ipynb',\n",
       " 'PYTHON ASSIGNMENT 4.ipynb',\n",
       " 'PYTHON ASSIGNMENT 5.ipynb',\n",
       " 'PYTHON ASSIGNMENT 6.ipynb',\n",
       " 'PYTHON ASSIGNMENT 7.ipynb',\n",
       " 'PYTHON ASSIGNMENT 8.ipynb',\n",
       " 'PYTHON ASSIGNMENT 9.ipynb',\n",
       " 'PYTHON ASSINGMENT 20.ipynb',\n",
       " 'test.txt',\n",
       " 'test2.txt',\n",
       " 'text.png',\n",
       " 'today.txt',\n",
       " 'Untitled.ipynb',\n",
       " 'zoo.py',\n",
       " '__pycache__']"
      ]
     },
     "execution_count": 6,
     "metadata": {},
     "output_type": "execute_result"
    }
   ],
   "source": [
    "import os\n",
    "os.listdir('.')"
   ]
  },
  {
   "cell_type": "markdown",
   "id": "2675f034",
   "metadata": {},
   "source": [
    "5 . Create a list of all of the files in your parent directory (minimum five files should be available)."
   ]
  },
  {
   "cell_type": "code",
   "execution_count": 36,
   "id": "7afbc4ce",
   "metadata": {},
   "outputs": [
    {
     "name": "stdout",
     "output_type": "stream",
     "text": [
      "['car data.txt', 'Flipkart_reviews.txt', 'MY SQL COMMANDS.txt', 'SalesData-TEXT-IMPORT (1).txt', 'SalesData-TEXT-IMPORT.txt', 'SQL topics.txt', 'sql_process.txt', 'bank-names.txt', 'bank-names.txt', 'requirements.txt', 'dictionary.txt', 'ticdata2000.txt', 'ticeval2000.txt', 'tictgts2000.txt', 'humans.txt', 'robots.txt', 'test.txt', 'test2.txt', 'today.txt', 'LICENSE_PYTHON.txt', 'CREDITS.txt', 'extend.txt', 'HISTORY.txt', 'NEWS.txt', 'NEWS2x.txt', 'README.txt', 'TODO.txt', 'README.txt', 'Grammar.txt', 'PatternGrammar.txt', 'README.txt', 'top_level.txt', 'vendor.txt', 'dependency_links.txt', 'entry_points.txt', 'SOURCES.txt', 'top_level.txt', 'dependency_links.txt', 'entry_points.txt', 'requires.txt', 'SOURCES.txt', 'top_level.txt', 'dependency_links.txt', 'entry_points.txt', 'requires.txt', 'SOURCES.txt', 'top_level.txt', 'WmDefault.txt', 'html40colors.txt', 'namedcolors.txt', 'webcolors.txt', 'websafe.txt', 'rgb.txt', 'xlicense.txt', 'requirements.txt', 'requirements.txt', 'requirements.txt', 'runtime.txt']\n"
     ]
    }
   ],
   "source": [
    "import os\n",
    "lst = []\n",
    "extensions = ['.txt']\n",
    "for folders,subfolders,filenames in os.walk(r'C:\\Users\\Munna\\Downloads'):\n",
    "    for filename in filenames:\n",
    "        name,extension = os.path.splitext(filename)\n",
    "        if extension in extensions:\n",
    "            lst.append(filename)\n",
    "            \n",
    "print(lst)"
   ]
  },
  {
   "cell_type": "markdown",
   "id": "8b9ea268",
   "metadata": {},
   "source": [
    "6 . Use multiprocessing to create three separate processes. Make each one wait a random number of\n",
    "seconds between one and five, print the current time, and then exit."
   ]
  },
  {
   "cell_type": "code",
   "execution_count": 17,
   "id": "3d1513f1",
   "metadata": {},
   "outputs": [],
   "source": [
    "import multiprocessing\n",
    "\n",
    "def sec(sec):\n",
    "    from datetime import datetime\n",
    "    from time import sleep\n",
    "    sleep(sec)\n",
    "    print('wait',sec,'seconds, time is',datetime.utcnow())\n",
    "    \n",
    "if __name__ == '__main__':\n",
    "    import random\n",
    "    for i in range(3):\n",
    "        sec = random.random()\n",
    "        process = multiprocessing.Process(target=sec,args = (sec,))\n",
    "        process.start()"
   ]
  },
  {
   "cell_type": "code",
   "execution_count": 21,
   "id": "2f68e91d",
   "metadata": {},
   "outputs": [],
   "source": []
  },
  {
   "cell_type": "markdown",
   "id": "307faf64",
   "metadata": {},
   "source": [
    "7 . Create a date object of your day of birth."
   ]
  },
  {
   "cell_type": "code",
   "execution_count": 22,
   "id": "e5b862a3",
   "metadata": {},
   "outputs": [
    {
     "data": {
      "text/plain": [
       "datetime.date(1997, 5, 9)"
      ]
     },
     "execution_count": 22,
     "metadata": {},
     "output_type": "execute_result"
    }
   ],
   "source": [
    "dob = date(1997,5,9)\n",
    "dob"
   ]
  },
  {
   "cell_type": "markdown",
   "id": "49019eae",
   "metadata": {},
   "source": [
    "8 . What day of the week was your day of birth?"
   ]
  },
  {
   "cell_type": "code",
   "execution_count": 23,
   "id": "25e2dc62",
   "metadata": {},
   "outputs": [
    {
     "data": {
      "text/plain": [
       "4"
      ]
     },
     "execution_count": 23,
     "metadata": {},
     "output_type": "execute_result"
    }
   ],
   "source": [
    "dob.weekday()"
   ]
  },
  {
   "cell_type": "markdown",
   "id": "bf9635f4",
   "metadata": {},
   "source": [
    "9 . When will you be (or when were you) 10,000 days old?"
   ]
  },
  {
   "cell_type": "code",
   "execution_count": 24,
   "id": "a5ce63b0",
   "metadata": {},
   "outputs": [
    {
     "data": {
      "text/plain": [
       "datetime.date(2024, 9, 24)"
      ]
     },
     "execution_count": 24,
     "metadata": {},
     "output_type": "execute_result"
    }
   ],
   "source": [
    "from datetime import timedelta\n",
    "older_self = dob + timedelta(days=10000)\n",
    "older_self"
   ]
  },
  {
   "cell_type": "code",
   "execution_count": null,
   "id": "f9f51747",
   "metadata": {},
   "outputs": [],
   "source": []
  }
 ],
 "metadata": {
  "kernelspec": {
   "display_name": "Python 3 (ipykernel)",
   "language": "python",
   "name": "python3"
  },
  "language_info": {
   "codemirror_mode": {
    "name": "ipython",
    "version": 3
   },
   "file_extension": ".py",
   "mimetype": "text/x-python",
   "name": "python",
   "nbconvert_exporter": "python",
   "pygments_lexer": "ipython3",
   "version": "3.9.7"
  }
 },
 "nbformat": 4,
 "nbformat_minor": 5
}
