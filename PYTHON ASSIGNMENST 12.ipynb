{
 "cells": [
  {
   "cell_type": "markdown",
   "id": "49e058f4",
   "metadata": {},
   "source": [
    "1. In what modes should the PdfFileReader() and PdfFileWriter() File objects will be opened?"
   ]
  },
  {
   "cell_type": "raw",
   "id": "b57f70d2",
   "metadata": {},
   "source": [
    "Read-binary ('rb') for PdfFileReader() and write-binary ('wb') for PdfFileWriter()"
   ]
  },
  {
   "cell_type": "markdown",
   "id": "028102a5",
   "metadata": {},
   "source": [
    "2. From a PdfFileReader object, how do you get a Page object for page 5?"
   ]
  },
  {
   "cell_type": "raw",
   "id": "bad1df9d",
   "metadata": {},
   "source": [
    "Calling getPage(4) will return a Page object for About this Book, since page 0 is the first page."
   ]
  },
  {
   "cell_type": "markdown",
   "id": "53fafab2",
   "metadata": {},
   "source": [
    "3. What PdfFileReader variable stores the number of pages in the PDF document?"
   ]
  },
  {
   "cell_type": "raw",
   "id": "66af8b55",
   "metadata": {},
   "source": [
    "The numPages variable stores an integer of the number of pages in the PdfFileReader object."
   ]
  },
  {
   "cell_type": "markdown",
   "id": "7aba5269",
   "metadata": {},
   "source": [
    "4. If a PdfFileReader object’s PDF is encrypted with the password swordfish, what must you do\n",
    "before you can obtain Page objects from it?"
   ]
  },
  {
   "cell_type": "raw",
   "id": "c9bfd85d",
   "metadata": {},
   "source": [
    "Call decrypt('swordfish')"
   ]
  },
  {
   "cell_type": "markdown",
   "id": "a005a388",
   "metadata": {},
   "source": [
    "5. What methods do you use to rotate a page?"
   ]
  },
  {
   "cell_type": "raw",
   "id": "28bb717c",
   "metadata": {},
   "source": [
    "A page can be rotated clockwise, by 90 degrees, when displayed or printed. The Page.GetRotation() method returns the Page. Rotate enum specifying the current rotation"
   ]
  },
  {
   "cell_type": "markdown",
   "id": "934aa460",
   "metadata": {},
   "source": [
    "6. What is the difference between a Run object and a Paragraph object?"
   ]
  },
  {
   "cell_type": "raw",
   "id": "1c00e80f",
   "metadata": {},
   "source": [
    "A document contains multiple paragraphs. A paragraph begins on a new line and contains multiple runs. Runs are contiguous groups of characters within the a paragraph."
   ]
  },
  {
   "cell_type": "markdown",
   "id": "325af39a",
   "metadata": {},
   "source": [
    "7. How do you obtain a list of Paragraph objects for a Document object that’s stored in a variable\n",
    "named doc?"
   ]
  },
  {
   "cell_type": "code",
   "execution_count": 5,
   "id": "c3a920b9",
   "metadata": {},
   "outputs": [],
   "source": [
    "import docx\n",
    "doc = docx.Document()\n",
    "doc.paragraphs"
   ]
  },
  {
   "cell_type": "markdown",
   "id": "403ff16c",
   "metadata": {},
   "source": [
    "8. What type of object has bold, underline, italic, strike, and outline variables?"
   ]
  },
  {
   "cell_type": "raw",
   "id": "d89961ca",
   "metadata": {},
   "source": [
    "Run type objects has bold,underline,italic,strike,\n",
    "and outline variables"
   ]
  },
  {
   "cell_type": "markdown",
   "id": "4275ba0e",
   "metadata": {},
   "source": [
    "9. What is the difference between False, True, and None for the bold variable?"
   ]
  },
  {
   "cell_type": "raw",
   "id": "fb3e7537",
   "metadata": {},
   "source": [
    "True (the attribute is always enabled, no matter what other styles are applied to the run), False (the attribute is always disabled), or None (defaults to whatever the run’s style is set to)."
   ]
  },
  {
   "cell_type": "markdown",
   "id": "407fa0d2",
   "metadata": {},
   "source": [
    "10. How do you create a Document object for a new Word document?"
   ]
  },
  {
   "cell_type": "code",
   "execution_count": 8,
   "id": "f7451ae0",
   "metadata": {},
   "outputs": [],
   "source": [
    "import docx\n",
    "doc = docx.Document()"
   ]
  },
  {
   "cell_type": "markdown",
   "id": "64a3acd8",
   "metadata": {},
   "source": [
    "11. How do you add a paragraph with the text &#39;Hello, there!&#39; to a Document object stored in a\n",
    "variable named doc?"
   ]
  },
  {
   "cell_type": "code",
   "execution_count": 9,
   "id": "b1a128eb",
   "metadata": {},
   "outputs": [],
   "source": [
    "import docx\n",
    "doc = docx.Document()\n",
    "doc.add_paragraph('Hello, there!')\n",
    "doc.save('helloworld.docx')"
   ]
  },
  {
   "cell_type": "markdown",
   "id": "6d591738",
   "metadata": {},
   "source": [
    "12. What integers represent the levels of headings available in Word documents?"
   ]
  },
  {
   "cell_type": "raw",
   "id": "9c38eb65",
   "metadata": {},
   "source": [
    "Header 0\n",
    "\n",
    "Header 1\n",
    "Header 2\n",
    "Header 3\n",
    "Header 4\n",
    "The integer 0 makes the heading Title style,which is used for the top of the document.Integers 1 to 4 are for various heading levels, with 1 begins the main heading and 4 lowest subheading."
   ]
  },
  {
   "cell_type": "code",
   "execution_count": null,
   "id": "77e07fe3",
   "metadata": {},
   "outputs": [],
   "source": []
  }
 ],
 "metadata": {
  "kernelspec": {
   "display_name": "Python 3 (ipykernel)",
   "language": "python",
   "name": "python3"
  },
  "language_info": {
   "codemirror_mode": {
    "name": "ipython",
    "version": 3
   },
   "file_extension": ".py",
   "mimetype": "text/x-python",
   "name": "python",
   "nbconvert_exporter": "python",
   "pygments_lexer": "ipython3",
   "version": "3.9.7"
  }
 },
 "nbformat": 4,
 "nbformat_minor": 5
}
