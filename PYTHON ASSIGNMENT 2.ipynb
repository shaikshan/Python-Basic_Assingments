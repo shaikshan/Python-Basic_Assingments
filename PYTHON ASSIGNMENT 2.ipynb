{
 "cells": [
  {
   "cell_type": "markdown",
   "id": "3245dad8",
   "metadata": {},
   "source": [
    "1.What are the two values of the Boolean data type? How do you write them?"
   ]
  },
  {
   "cell_type": "raw",
   "id": "f2dbfca2",
   "metadata": {},
   "source": [
    "A: True and False are the two values of the boolean data type."
   ]
  },
  {
   "cell_type": "markdown",
   "id": "2a048ecd",
   "metadata": {},
   "source": [
    "2. What are the three different types of Boolean operators?"
   ]
  },
  {
   "cell_type": "raw",
   "id": "cf93ee0d",
   "metadata": {},
   "source": [
    "A: AND, OR , NOT..."
   ]
  },
  {
   "cell_type": "markdown",
   "id": "33f3bb04",
   "metadata": {},
   "source": [
    "3. Make a list of each Boolean operator&#39;s truth tables (i.e. every possible combination of Boolean\n",
    "values for the operator and what it evaluate )."
   ]
  },
  {
   "cell_type": "raw",
   "id": "8696fe9a",
   "metadata": {},
   "source": [
    "  and table              or table          not table\n",
    "true true  true     true  true  true     true = false\n",
    "true false false    true  false true     false = true\n",
    "false false true    false true  true\n",
    "false true false    false false false"
   ]
  },
  {
   "cell_type": "markdown",
   "id": "fe1da331",
   "metadata": {},
   "source": [
    "4. What are the values of the following expressions?"
   ]
  },
  {
   "cell_type": "code",
   "execution_count": 1,
   "id": "780a71a7",
   "metadata": {},
   "outputs": [
    {
     "data": {
      "text/plain": [
       "False"
      ]
     },
     "execution_count": 1,
     "metadata": {},
     "output_type": "execute_result"
    }
   ],
   "source": [
    "(5 > 4) and (3 == 5)"
   ]
  },
  {
   "cell_type": "code",
   "execution_count": 2,
   "id": "17e8b221",
   "metadata": {},
   "outputs": [
    {
     "data": {
      "text/plain": [
       "False"
      ]
     },
     "execution_count": 2,
     "metadata": {},
     "output_type": "execute_result"
    }
   ],
   "source": [
    "not (5 > 4)"
   ]
  },
  {
   "cell_type": "code",
   "execution_count": 3,
   "id": "4063e1cb",
   "metadata": {},
   "outputs": [
    {
     "data": {
      "text/plain": [
       "True"
      ]
     },
     "execution_count": 3,
     "metadata": {},
     "output_type": "execute_result"
    }
   ],
   "source": [
    "(5 > 4) or (3 == 5)"
   ]
  },
  {
   "cell_type": "code",
   "execution_count": 4,
   "id": "c72429a0",
   "metadata": {},
   "outputs": [
    {
     "data": {
      "text/plain": [
       "False"
      ]
     },
     "execution_count": 4,
     "metadata": {},
     "output_type": "execute_result"
    }
   ],
   "source": [
    "not ((5 > 4) or (3 == 5))"
   ]
  },
  {
   "cell_type": "code",
   "execution_count": 5,
   "id": "cca1fb31",
   "metadata": {},
   "outputs": [
    {
     "data": {
      "text/plain": [
       "False"
      ]
     },
     "execution_count": 5,
     "metadata": {},
     "output_type": "execute_result"
    }
   ],
   "source": [
    "(True and True) and (True == False)"
   ]
  },
  {
   "cell_type": "code",
   "execution_count": 6,
   "id": "a44a7d78",
   "metadata": {},
   "outputs": [
    {
     "data": {
      "text/plain": [
       "True"
      ]
     },
     "execution_count": 6,
     "metadata": {},
     "output_type": "execute_result"
    }
   ],
   "source": [
    "(not False) or (not True)"
   ]
  },
  {
   "cell_type": "markdown",
   "id": "3745590b",
   "metadata": {},
   "source": [
    "5.What are the six comparison operators?"
   ]
  },
  {
   "cell_type": "raw",
   "id": "97f9bc03",
   "metadata": {},
   "source": [
    "A: <, >, <=, >=, ==, !="
   ]
  },
  {
   "cell_type": "markdown",
   "id": "0533be44",
   "metadata": {},
   "source": [
    "6.How do you tell the difference between the equal to and assignment operators?Describe a\n",
    "condition and when you would use one."
   ]
  },
  {
   "cell_type": "raw",
   "id": "c117075d",
   "metadata": {},
   "source": [
    "A: 1-Assignment operators is used to assign a            variable    to a value\n",
    "   for example: variable = value,i.e(l = [1,2]),\n",
    "    2-equal to is a comparison operator used to \n",
    "    compare a condition\n",
    "    for example: true == true            "
   ]
  },
  {
   "cell_type": "markdown",
   "id": "2df852a9",
   "metadata": {},
   "source": [
    "7.Identify the three blocks in this code:"
   ]
  },
  {
   "cell_type": "code",
   "execution_count": 1,
   "id": "cf97e981",
   "metadata": {},
   "outputs": [
    {
     "name": "stdout",
     "output_type": "stream",
     "text": [
      "spam\n"
     ]
    }
   ],
   "source": [
    "spam = 0\n",
    "if spam == 10:\n",
    "    print('eggs')        # indent increased, block A\n",
    "    if spam > 5:         # still block A\n",
    "        print('bacon')   # still block A, indent increased, block B inside block A\n",
    "    else:                # still block A, indent decreased, block B ended in line above\n",
    "        print('ham')     # still block A, indent increased, block C inside block A\n",
    "    print('spam')        # still block A, indent decreased, block C ended in line above\n",
    "print('spam')            # indent decreased, block A ended in line above"
   ]
  },
  {
   "cell_type": "markdown",
   "id": "68820efd",
   "metadata": {},
   "source": [
    "8. Write code that prints Hello if 1 is stored in spam, prints Howdy if 2 is stored in spam, and prints\n",
    "Greetings! if anything else is stored in spam."
   ]
  },
  {
   "cell_type": "code",
   "execution_count": 8,
   "id": "83dbd0a6",
   "metadata": {},
   "outputs": [
    {
     "name": "stdout",
     "output_type": "stream",
     "text": [
      "3\n",
      "Greetings\n"
     ]
    }
   ],
   "source": [
    "spam = int(input())\n",
    "if spam == 1:\n",
    "    print(\"Hello\")\n",
    "elif spam == 2:\n",
    "    print(\"Howdy\")\n",
    "else:\n",
    "    print(\"Greetings\")"
   ]
  },
  {
   "cell_type": "markdown",
   "id": "0acc7578",
   "metadata": {},
   "source": [
    "9.If your programme is stuck in an endless loop, what keys you’ll press?"
   ]
  },
  {
   "cell_type": "raw",
   "id": "6f5ac4a4",
   "metadata": {},
   "source": [
    "A:break"
   ]
  },
  {
   "cell_type": "markdown",
   "id": "0e9d0658",
   "metadata": {},
   "source": [
    "10. How can you tell the difference between break and continue?"
   ]
  },
  {
   "cell_type": "markdown",
   "id": "fe37531c",
   "metadata": {},
   "source": [
    "A: The two keys is used in code while the code in a loop, the difference is when we want to stop the loop we use break key,\n",
    "    and when we want to continue the loop we use the continue key.."
   ]
  },
  {
   "cell_type": "markdown",
   "id": "2d6a1ef9",
   "metadata": {},
   "source": [
    " 11.In a for loop, what is the difference between range(10), range(0, 10), and range(0, 10, 1)?"
   ]
  },
  {
   "cell_type": "raw",
   "id": "57e9b2d7",
   "metadata": {},
   "source": [
    "A: There will be no difference in between the range(10),range(0,10), and range(0,10,1).The reason is \n",
    "    the range function is a generator which generates the numbers based upon the last number it has generated \n",
    "    and it will give the same output..while u run a for loop with respect to each one.."
   ]
  },
  {
   "cell_type": "markdown",
   "id": "2900a783",
   "metadata": {},
   "source": [
    "12. Write a short program that prints the numbers 1 to 10 using a for loop. Then write an equivalent\n",
    "program that prints the numbers 1 to 10 using a while loop."
   ]
  },
  {
   "cell_type": "code",
   "execution_count": 44,
   "id": "cb606ce4",
   "metadata": {},
   "outputs": [
    {
     "name": "stdout",
     "output_type": "stream",
     "text": [
      "0\n",
      "1\n",
      "2\n",
      "3\n",
      "4\n",
      "5\n",
      "6\n",
      "7\n",
      "8\n",
      "9\n",
      "0 1 2 3 4 5 6 7 8 9 "
     ]
    }
   ],
   "source": [
    "for i in range(10):\n",
    "    print(i, end = \"\\n\")\n",
    "\n",
    "i = 0\n",
    "while i>=0:\n",
    "    print(i,end = \" \")\n",
    "    i = i+1\n",
    "    if i == 10:\n",
    "        break\n",
    "   \n",
    "    "
   ]
  },
  {
   "cell_type": "markdown",
   "id": "5b91cb0f",
   "metadata": {},
   "source": [
    "13. If you had a function named bacon() inside a module named spam, how would you call it after\n",
    "importing spam?"
   ]
  },
  {
   "cell_type": "raw",
   "id": "3c1c9443",
   "metadata": {},
   "source": [
    "A: import spam as sp\n",
    "    bacon = sp.bacon()"
   ]
  },
  {
   "cell_type": "code",
   "execution_count": null,
   "id": "f69f9042",
   "metadata": {},
   "outputs": [],
   "source": []
  }
 ],
 "metadata": {
  "kernelspec": {
   "display_name": "Python 3 (ipykernel)",
   "language": "python",
   "name": "python3"
  },
  "language_info": {
   "codemirror_mode": {
    "name": "ipython",
    "version": 3
   },
   "file_extension": ".py",
   "mimetype": "text/x-python",
   "name": "python",
   "nbconvert_exporter": "python",
   "pygments_lexer": "ipython3",
   "version": "3.9.7"
  }
 },
 "nbformat": 4,
 "nbformat_minor": 5
}
